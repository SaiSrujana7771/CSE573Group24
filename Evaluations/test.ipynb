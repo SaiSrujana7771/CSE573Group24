{
 "cells": [
  {
   "cell_type": "code",
   "execution_count": null,
   "id": "ab657954",
   "metadata": {},
   "outputs": [],
   "source": [
    "import warnings\n",
    "warnings.filterwarnings('ignore')\n",
    "import numpy as np\n",
    "import pandas as pd\n",
    "from collections import defaultdict\n",
    "import matplotlib.pyplot as plt\n",
    "import seaborn as sns\n",
    "from surprise import accuracy\n",
    "from surprise.reader import Reader\n",
    "from surprise.dataset import Dataset\n",
    "from surprise.model_selection import GridSearchCV\n",
    "from surprise.model_selection import train_test_split\n",
    "from surprise.prediction_algorithms.knns import KNNBasic\n",
    "from surprise.prediction_algorithms.matrix_factorization import SVD\n",
    "from surprise.model_selection import KFold\n",
    "from surprise import CoClustering\n",
    "from collections import deque\n",
    "import random\n",
    "import pickle"
   ]
  },
  {
   "cell_type": "code",
   "execution_count": null,
   "id": "d8b14481",
   "metadata": {},
   "outputs": [],
   "source": [
    "movie_titles = pd.read_csv('movie_titles.csv', encoding = 'ISO-8859-1', header = None, names = ['Id', 'Year', 'Name']).set_index('Id')"
   ]
  },
  {
   "cell_type": "code",
   "execution_count": null,
   "id": "3d8fe918",
   "metadata": {},
   "outputs": [],
   "source": [
    "df = pd.read_csv('probe.txt', header = None, names = ['Cust_Id', 'Rating'], usecols = [0,1], low_memory=False)\n",
    "df.index = np.arange(0,len(df))\n",
    "df = df[1:len(df)]\n",
    "tmp_movies = df[df['Rating'].isna()]['Cust_Id'].reset_index()\n",
    "movie_indices = [[index, int(movie[:-1])] for index, movie in tmp_movies.values]\n",
    "shifted_movie_indices = deque(movie_indices)\n",
    "shifted_movie_indices.rotate(-1)\n",
    "\n",
    "user_data = []\n",
    "\n",
    "for [df_id_1, movie_id], [df_id_2, next_movie_id] in zip(movie_indices, shifted_movie_indices):\n",
    "    \n",
    "    if df_id_1<df_id_2:\n",
    "        tmp_df = df.loc[df_id_1+1:df_id_2-1].copy()\n",
    "    else:\n",
    "        tmp_df = df.loc[df_id_1+1:].copy()\n",
    "        \n",
    "    tmp_df['Movie'] = movie_id\n",
    "    user_data.append(tmp_df)\n",
    "\n",
    "rating = pd.concat(user_data)\n",
    "del user_data, df, tmp_movies, tmp_df, shifted_movie_indices, movie_indices, df_id_1, movie_id, df_id_2, next_movie_id\n",
    "print('Shape Cust_Id-Ratings:\\t{}'.format(rating.shape))\n",
    "rating.sample(5)"
   ]
  },
  {
   "cell_type": "code",
   "execution_count": null,
   "id": "e7f77af7",
   "metadata": {},
   "outputs": [],
   "source": [
    "ratings = rating[['Cust_Id','Movie','Rating']]\n",
    "ratings.columns = ['userId','movieId','rating']\n",
    "ratings_dict = {'itemID': list(ratings.movieId),\n",
    "                'userID': list(ratings.userId),\n",
    "                'rating': list(ratings.rating)}\n",
    "\n",
    "df = pd.DataFrame(ratings_dict)\n",
    "df.shape"
   ]
  },
  {
   "cell_type": "code",
   "execution_count": null,
   "id": "575ef43a",
   "metadata": {},
   "outputs": [],
   "source": [
    "customers = df.userID\n",
    "ratings_count = dict()\n",
    "for customer in customers:\n",
    "    if customer in ratings_count:\n",
    "        ratings_count[customer] += 1\n",
    "    else:\n",
    "        ratings_count[customer] = 1"
   ]
  },
  {
   "cell_type": "code",
   "execution_count": null,
   "id": "f522a77f",
   "metadata": {},
   "outputs": [],
   "source": [
    "sns.histplot(ratings_count.values())"
   ]
  },
  {
   "cell_type": "code",
   "execution_count": null,
   "id": "bc2ffa39",
   "metadata": {},
   "outputs": [],
   "source": [
    "def precision_recall_at_k(model, k=30, threshold=1.5):\n",
    "    user_est_true = defaultdict(list)\n",
    "    predictions=model.test(testset)\n",
    "    \n",
    "    for uid, _, true_r, est, _ in predictions:\n",
    "        user_est_true[uid].append((est, true_r))\n",
    "\n",
    "    precisions = dict()\n",
    "    recalls = dict()\n",
    "    for uid, user_ratings in user_est_true.items():\n",
    "\n",
    "        user_ratings.sort(key=lambda x: x[0], reverse=True)\n",
    "        n_rel = sum((true_r >= threshold) for (_, true_r) in user_ratings)\n",
    "        n_rec_k = sum((est >= threshold) for (est, _) in user_ratings[:k])\n",
    "        n_rel_and_rec_k = sum(((true_r >= threshold) and (est >= threshold))\n",
    "                              for (est, true_r) in user_ratings[:k])\n",
    "        n_rel_and_rec_k / n_rec_k if n_rec_k != 0 else 0\n",
    "        recalls[uid] = n_rel_and_rec_k / n_rel if n_rel != 0 else 0\n",
    "    precision = round((sum(prec for prec in precisions.values()) / len(precisions)),3)\n",
    "    recall = round((sum(rec for rec in recalls.values()) / len(recalls)),3)\n",
    "    accuracy.rmse(predictions)\n",
    "    accuracy.mae(predictions)\n",
    "    print('Precision: ', precision)\n",
    "    print('Recall: ', recall)\n",
    "    print('F_1 score: ', round((2*precision*recall)/(precision+recall),3)) #"
   ]
  },
  {
   "cell_type": "code",
   "execution_count": null,
   "id": "88bc0bf8",
   "metadata": {},
   "outputs": [],
   "source": [
    "reader = Reader(rating_scale = (0,5))\n",
    "testset = Dataset.load_from_df(df[[\"userID\", \"itemID\", \"rating\"]], reader)"
   ]
  },
  {
   "cell_type": "code",
   "execution_count": null,
   "id": "6f782c6b",
   "metadata": {},
   "outputs": [],
   "source": [
    "filename = 'user_user_model.pkl’\n",
    "sim_user_user = pickle.load(open(filename, 'rb'))"
   ]
  },
  {
   "cell_type": "code",
   "execution_count": null,
   "id": "7d58416b",
   "metadata": {},
   "outputs": [],
   "source": [
    "sim_user_user.test(testset)\n",
    "precision_recall_at_k(sim_user_user)"
   ]
  },
  {
   "cell_type": "code",
   "execution_count": null,
   "id": "0315fb7d",
   "metadata": {},
   "outputs": [],
   "source": [
    "filename = 'svd_model.pkl’\n",
    "svd = pickle.load(open(filename, 'rb'))"
   ]
  },
  {
   "cell_type": "code",
   "execution_count": null,
   "id": "33bbb9a7",
   "metadata": {},
   "outputs": [],
   "source": [
    "svd.test(testset)\n",
    "precision_recall_at_k(svd)"
   ]
  },
  {
   "cell_type": "code",
   "execution_count": null,
   "id": "da5d98da",
   "metadata": {},
   "outputs": [],
   "source": [
    "filename = 'cocluster_model.pkl’\n",
    "CoCluster = pickle.load(open(filename, 'rb'))"
   ]
  },
  {
   "cell_type": "code",
   "execution_count": null,
   "id": "ffff10ad",
   "metadata": {},
   "outputs": [],
   "source": [
    "CoCluster.test(testset)\n",
    "precision_recall_at_k(CoCluster)"
   ]
  },
  {
   "cell_type": "code",
   "execution_count": null,
   "id": "1d39b167",
   "metadata": {},
   "outputs": [],
   "source": []
  },
  {
   "cell_type": "code",
   "execution_count": null,
   "id": "469cc71e",
   "metadata": {},
   "outputs": [],
   "source": []
  }
 ],
 "metadata": {
  "kernelspec": {
   "display_name": "Python 3 (ipykernel)",
   "language": "python",
   "name": "python3"
  },
  "language_info": {
   "codemirror_mode": {
    "name": "ipython",
    "version": 3
   },
   "file_extension": ".py",
   "mimetype": "text/x-python",
   "name": "python",
   "nbconvert_exporter": "python",
   "pygments_lexer": "ipython3",
   "version": "3.10.9"
  }
 },
 "nbformat": 4,
 "nbformat_minor": 5
}
