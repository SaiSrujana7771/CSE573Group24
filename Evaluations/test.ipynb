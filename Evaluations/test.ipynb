{
 "cells": [
  {
   "cell_type": "code",
   "execution_count": 4,
   "id": "ab657954",
   "metadata": {},
   "outputs": [],
   "source": [
    "import warnings\n",
    "warnings.filterwarnings('ignore')\n",
    "import numpy as np\n",
    "import pandas as pd\n",
    "from collections import defaultdict\n",
    "import matplotlib.pyplot as plt\n",
    "import seaborn as sns\n",
    "from surprise import accuracy\n",
    "from surprise.reader import Reader\n",
    "from surprise.dataset import Dataset\n",
    "from surprise.model_selection import GridSearchCV\n",
    "from surprise.model_selection import train_test_split\n",
    "from surprise.prediction_algorithms.knns import KNNBasic\n",
    "from surprise.prediction_algorithms.matrix_factorization import SVD\n",
    "from surprise.model_selection import KFold\n",
    "from surprise import CoClustering\n",
    "from collections import deque\n",
    "import random\n",
    "import pickle"
   ]
  },
  {
   "cell_type": "code",
   "execution_count": 9,
   "id": "3991f60c-28d1-4ae1-b075-9a3e18c978da",
   "metadata": {},
   "outputs": [
    {
     "name": "stdout",
     "output_type": "stream",
     "text": [
      "There are 3 GPU(s) available.\n",
      "We will use the GPU: NVIDIA A30\n"
     ]
    }
   ],
   "source": [
    "import torch\n",
    "\n",
    "# If there's a GPU available...\n",
    "if torch.cuda.is_available():\n",
    "\n",
    "    # Tell PyTorch to use the GPU.\n",
    "    device = torch.device(\"cuda\")\n",
    "\n",
    "    print('There are %d GPU(s) available.' % torch.cuda.device_count())\n",
    "\n",
    "    print('We will use the GPU:', torch.cuda.get_device_name(0))\n",
    "\n",
    "# If not...\n",
    "else:\n",
    "    print('No GPU available, using the CPU instead.')\n",
    "    device = torch.device(\"cpu\")"
   ]
  },
  {
   "cell_type": "code",
   "execution_count": 10,
   "id": "09e5350f-df6e-4102-baf0-ea5f7fb4ff64",
   "metadata": {},
   "outputs": [],
   "source": [
    "def summary_report(data):\n",
    "    r, c = data.shape\n",
    "    t_sparce = 0\n",
    "    t_nunique = 0\n",
    "    for n in data.columns:\n",
    "        col = data[n]\n",
    "        sparce = round(round(col.isna().sum() / r, 2) * 100, 2)\n",
    "        nunique = col.nunique()\n",
    "        \n",
    "        t_sparce = t_sparce + sparce\n",
    "        t_nunique = t_nunique + nunique\n",
    "        \n",
    "        print(str(n) + \" is \" + str(sparce) + \"% empty. (\" + str(data[n].isna().sum()) + \" null values)\")\n",
    "        print(f\"The column has \" + str(nunique) + \" unique elements.\")\n",
    "        print(\"\\n\")\n",
    "    \n",
    "    data.info()\n",
    "    print(f\"The shape of the dataset is \" + str(r) + \" rows and \" + str(c) + \" columns.\")\n",
    "    print(f\"The dataset is \" + str(round(c / t_sparce, 2)) + \"% dense and contains \" + str(t_nunique) + \" unique elements.\" )"
   ]
  },
  {
   "cell_type": "code",
   "execution_count": 11,
   "id": "fd5d3a6e-0bcf-4ec2-b520-1e69678d259e",
   "metadata": {},
   "outputs": [],
   "source": [
    "movie_titles = pd.read_csv('movie_titles.csv', encoding = 'ISO-8859-1', header = None, names = ['Id', 'Year', 'Name']).set_index('Id')"
   ]
  },
  {
   "cell_type": "code",
   "execution_count": 12,
   "id": "9f934f4d-5262-448d-9970-38594086cab8",
   "metadata": {},
   "outputs": [
    {
     "name": "stdout",
     "output_type": "stream",
     "text": [
      "Dataset 1 shape: (24058263, 2)\n",
      "Dataset 2 shape: (26982302, 2)\n",
      "Dataset 3 shape: (22605786, 2)\n",
      "Dataset 4 shape: (26851926, 2)\n",
      "Shape Cust_Id-Ratings:\t(100479960, 3)\n"
     ]
    },
    {
     "data": {
      "text/html": [
       "<div>\n",
       "<style scoped>\n",
       "    .dataframe tbody tr th:only-of-type {\n",
       "        vertical-align: middle;\n",
       "    }\n",
       "\n",
       "    .dataframe tbody tr th {\n",
       "        vertical-align: top;\n",
       "    }\n",
       "\n",
       "    .dataframe thead th {\n",
       "        text-align: right;\n",
       "    }\n",
       "</style>\n",
       "<table border=\"1\" class=\"dataframe\">\n",
       "  <thead>\n",
       "    <tr style=\"text-align: right;\">\n",
       "      <th></th>\n",
       "      <th>Cust_Id</th>\n",
       "      <th>Rating</th>\n",
       "      <th>Movie</th>\n",
       "    </tr>\n",
       "  </thead>\n",
       "  <tbody>\n",
       "    <tr>\n",
       "      <th>85310698</th>\n",
       "      <td>2415196</td>\n",
       "      <td>4.0</td>\n",
       "      <td>15132</td>\n",
       "    </tr>\n",
       "    <tr>\n",
       "      <th>35737473</th>\n",
       "      <td>2431797</td>\n",
       "      <td>3.0</td>\n",
       "      <td>6362</td>\n",
       "    </tr>\n",
       "    <tr>\n",
       "      <th>89674938</th>\n",
       "      <td>21677</td>\n",
       "      <td>5.0</td>\n",
       "      <td>15922</td>\n",
       "    </tr>\n",
       "    <tr>\n",
       "      <th>28293428</th>\n",
       "      <td>857406</td>\n",
       "      <td>4.0</td>\n",
       "      <td>5226</td>\n",
       "    </tr>\n",
       "    <tr>\n",
       "      <th>2248272</th>\n",
       "      <td>2136889</td>\n",
       "      <td>3.0</td>\n",
       "      <td>424</td>\n",
       "    </tr>\n",
       "  </tbody>\n",
       "</table>\n",
       "</div>"
      ],
      "text/plain": [
       "          Cust_Id  Rating  Movie\n",
       "85310698  2415196     4.0  15132\n",
       "35737473  2431797     3.0   6362\n",
       "89674938    21677     5.0  15922\n",
       "28293428   857406     4.0   5226\n",
       "2248272   2136889     3.0    424"
      ]
     },
     "execution_count": 12,
     "metadata": {},
     "output_type": "execute_result"
    }
   ],
   "source": [
    "df1 = pd.read_csv('combined_data_1.txt', header = None, names = ['Cust_Id', 'Rating'], usecols = [0,1], low_memory=False)\n",
    "df2 = pd.read_csv('combined_data_2.txt', header = None, names = ['Cust_Id', 'Rating'], usecols = [0,1], low_memory=False)\n",
    "df3 = pd.read_csv('combined_data_3.txt', header = None, names = ['Cust_Id', 'Rating'], usecols = [0,1], low_memory=False)\n",
    "df4 = pd.read_csv('combined_data_4.txt', header = None, names = ['Cust_Id', 'Rating'], usecols = [0,1], low_memory=False)\n",
    "\n",
    "df1['Rating'] = df1['Rating'].astype(float)\n",
    "df2['Rating'] = df2['Rating'].astype(float)\n",
    "df3['Rating'] = df3['Rating'].astype(float)\n",
    "df4['Rating'] = df4['Rating'].astype(float)\n",
    "\n",
    "print('Dataset 1 shape: {}'.format(df1.shape))\n",
    "print('Dataset 2 shape: {}'.format(df2.shape))\n",
    "print('Dataset 3 shape: {}'.format(df3.shape))\n",
    "print('Dataset 4 shape: {}'.format(df4.shape))\n",
    "\n",
    "frames = [df1, df2, df3, df4]\n",
    "df = pd.concat(frames)\n",
    "\n",
    "df.index = np.arange(0,len(df))\n",
    "df = df[1:len(df)]\n",
    "tmp_movies = df[df['Rating'].isna()]['Cust_Id'].reset_index()\n",
    "movie_indices = [[index, int(movie[:-1])] for index, movie in tmp_movies.values]\n",
    "shifted_movie_indices = deque(movie_indices)\n",
    "shifted_movie_indices.rotate(-1)\n",
    "\n",
    "user_data = []\n",
    "\n",
    "for [df_id_1, movie_id], [df_id_2, next_movie_id] in zip(movie_indices, shifted_movie_indices):\n",
    "    \n",
    "    if df_id_1<df_id_2:\n",
    "        tmp_df = df.loc[df_id_1+1:df_id_2-1].copy()\n",
    "    else:\n",
    "        tmp_df = df.loc[df_id_1+1:].copy()\n",
    "        \n",
    "    tmp_df['Movie'] = movie_id\n",
    "    user_data.append(tmp_df)\n",
    "\n",
    "rating = pd.concat(user_data)\n",
    "del user_data, df, tmp_movies, tmp_df, shifted_movie_indices, movie_indices, df_id_1, movie_id, df_id_2, next_movie_id\n",
    "print('Shape Cust_Id-Ratings:\\t{}'.format(rating.shape))\n",
    "rating.sample(5)"
   ]
  },
  {
   "cell_type": "code",
   "execution_count": 13,
   "id": "f20742fe-c7d2-4051-8dbc-f78ba94fce23",
   "metadata": {},
   "outputs": [
    {
     "data": {
      "text/plain": [
       "(100479960, 3)"
      ]
     },
     "execution_count": 13,
     "metadata": {},
     "output_type": "execute_result"
    }
   ],
   "source": [
    "ratings = rating[['Cust_Id','Movie','Rating']]\n",
    "ratings.columns = ['userId','movieId','rating']\n",
    "ratings_dict = {'itemID': list(ratings.movieId),\n",
    "                'userID': list(ratings.userId),\n",
    "                'rating': list(ratings.rating)}\n",
    "\n",
    "df = pd.DataFrame(ratings_dict)\n",
    "df.shape"
   ]
  },
  {
   "cell_type": "code",
   "execution_count": 14,
   "id": "e1a9913b-1dc7-414e-807c-ed04ea69d959",
   "metadata": {},
   "outputs": [],
   "source": [
    "customers = df.userID\n",
    "ratings_count = dict()\n",
    "for customer in customers:\n",
    "    if customer in ratings_count:\n",
    "        ratings_count[customer] += 1\n",
    "    else:\n",
    "        ratings_count[customer] = 1"
   ]
  },
  {
   "cell_type": "code",
   "execution_count": 15,
   "id": "d6d78372-147f-4a88-ab0e-65db43ab04fc",
   "metadata": {},
   "outputs": [],
   "source": [
    "lower = 10\n",
    "upper = 400\n",
    "remove_customer = []\n",
    "for customer, num_ratings in ratings_count.items():\n",
    "    if num_ratings < lower or num_ratings > upper:\n",
    "        remove_customer.append(customer)\n",
    "df = df.loc[~df.userID.isin(remove_customer)]"
   ]
  },
  {
   "cell_type": "code",
   "execution_count": 16,
   "id": "7a683424-4cf4-4d3b-979c-d2a49e4e7a34",
   "metadata": {},
   "outputs": [],
   "source": [
    "customers_edit = df.userID\n",
    "ratings_count_edit = dict()\n",
    "for customer in customers_edit:\n",
    "    if customer in ratings_count_edit:\n",
    "        ratings_count_edit[customer] += 1\n",
    "    else:\n",
    "        ratings_count_edit[customer] = 1"
   ]
  },
  {
   "cell_type": "code",
   "execution_count": 17,
   "id": "7f2295dc-c977-4036-989d-3a329b46d459",
   "metadata": {},
   "outputs": [],
   "source": [
    "movies = df.itemID\n",
    "ratings_count = dict()\n",
    "for movie in movies:\n",
    "    if movie in ratings_count:\n",
    "        ratings_count[movie] += 1\n",
    "    else:\n",
    "        ratings_count[movie] = 1"
   ]
  },
  {
   "cell_type": "code",
   "execution_count": 18,
   "id": "03498ab3-7294-4747-a24d-af9ce0053d6b",
   "metadata": {},
   "outputs": [],
   "source": [
    "lower = 10\n",
    "upper = 10000\n",
    "remove_item = []\n",
    "for item, num_ratings in ratings_count.items():\n",
    "    if num_ratings < lower or num_ratings > upper:\n",
    "        remove_item.append(item)\n",
    "df = df.loc[~df.itemID.isin(remove_item)]"
   ]
  },
  {
   "cell_type": "code",
   "execution_count": 19,
   "id": "28c44c45-3ba3-421e-b9e0-88fa41249f3c",
   "metadata": {},
   "outputs": [],
   "source": [
    "movies_edit = df.itemID\n",
    "ratings_count_edit = dict()\n",
    "for movie in movies_edit:\n",
    "    if movie in ratings_count_edit:\n",
    "        ratings_count_edit[movie] += 1\n",
    "    else:\n",
    "        ratings_count_edit[movie] = 1"
   ]
  },
  {
   "cell_type": "code",
   "execution_count": 20,
   "id": "fd20ae28-6960-43cf-911f-1644c73703d6",
   "metadata": {},
   "outputs": [
    {
     "name": "stdout",
     "output_type": "stream",
     "text": [
      "itemID is 0.0% empty. (0 null values)\n",
      "The column has 16801 unique elements.\n",
      "\n",
      "\n",
      "userID is 0.0% empty. (0 null values)\n",
      "The column has 375898 unique elements.\n",
      "\n",
      "\n",
      "rating is 0.0% empty. (0 null values)\n",
      "The column has 5 unique elements.\n",
      "\n",
      "\n",
      "<class 'pandas.core.frame.DataFrame'>\n",
      "Index: 12669476 entries, 0 to 100479953\n",
      "Data columns (total 3 columns):\n",
      " #   Column  Dtype  \n",
      "---  ------  -----  \n",
      " 0   itemID  int64  \n",
      " 1   userID  object \n",
      " 2   rating  float64\n",
      "dtypes: float64(1), int64(1), object(1)\n",
      "memory usage: 386.6+ MB\n",
      "The shape of the dataset is 12669476 rows and 3 columns.\n",
      "The dataset is inf% dense and contains 392704 unique elements.\n"
     ]
    }
   ],
   "source": [
    "summary_report(df)"
   ]
  },
  {
   "cell_type": "code",
   "execution_count": 21,
   "id": "d8b14481",
   "metadata": {},
   "outputs": [],
   "source": [
    "reader = Reader(rating_scale = (0,5))\n",
    "data = Dataset.load_from_df(df[[\"userID\", \"itemID\", \"rating\"]], reader)\n",
    "trainset, testset = train_test_split(data, test_size=.2, random_state=42) # Take test_size=0.4"
   ]
  },
  {
   "cell_type": "code",
   "execution_count": 26,
   "id": "bc2ffa39",
   "metadata": {},
   "outputs": [],
   "source": [
    "def precision_recall_at_k(model, k=30, threshold=1.5):\n",
    "    user_est_true = defaultdict(list)\n",
    "    predictions=model.test(testset)\n",
    "    for uid, _, true_r, est, _ in predictions:\n",
    "        user_est_true[uid].append((est, true_r))\n",
    "\n",
    "    precisions = dict()\n",
    "    recalls = dict()\n",
    "    for uid, user_ratings in user_est_true.items():\n",
    "\n",
    "        user_ratings.sort(key=lambda x: x[0], reverse=True)\n",
    "        n_rel = sum((true_r >= threshold) for (_, true_r) in user_ratings)\n",
    "        n_rec_k = sum((est >= threshold) for (est, _) in user_ratings[:k])\n",
    "        n_rel_and_rec_k = sum(((true_r >= threshold) and (est >= threshold)) for (est, true_r) in user_ratings[:k])\n",
    "        precisions[uid] = n_rel_and_rec_k / n_rec_k if n_rec_k != 0 else 0\n",
    "        recalls[uid] = n_rel_and_rec_k / n_rel if n_rel != 0 else 0\n",
    "    precision = round((sum(prec for prec in precisions.values()) / len(precisions)),3)\n",
    "    recall = round((sum(rec for rec in recalls.values()) / len(recalls)),3)\n",
    "    \n",
    "    accuracy.rmse(predictions)\n",
    "    accuracy.mae(predictions)\n",
    "    print('Precision: ', precision)\n",
    "    print('Recall: ', recall)\n",
    "    print('F_1 score: ', round((2*precision*recall)/(precision+recall),3))"
   ]
  },
  {
   "cell_type": "code",
   "execution_count": 24,
   "id": "6f782c6b",
   "metadata": {},
   "outputs": [],
   "source": [
    "filename = 'user_user_model.pkl'\n",
    "sim_user_user = pickle.load(open(filename, 'rb'))"
   ]
  },
  {
   "cell_type": "code",
   "execution_count": 27,
   "id": "7d58416b",
   "metadata": {},
   "outputs": [
    {
     "name": "stdout",
     "output_type": "stream",
     "text": [
      "RMSE: 0.9423\n",
      "MAE:  0.7374\n",
      "Precision:  0.934\n",
      "Recall:  0.98\n",
      "F_1 score:  0.956\n"
     ]
    }
   ],
   "source": [
    "precision_recall_at_k(sim_user_user)"
   ]
  },
  {
   "cell_type": "code",
   "execution_count": 28,
   "id": "0315fb7d",
   "metadata": {},
   "outputs": [],
   "source": [
    "filename = 'svd_model.pkl'\n",
    "svd = pickle.load(open(filename, 'rb'))"
   ]
  },
  {
   "cell_type": "code",
   "execution_count": 29,
   "id": "33bbb9a7",
   "metadata": {},
   "outputs": [
    {
     "name": "stdout",
     "output_type": "stream",
     "text": [
      "RMSE: 0.6865\n",
      "MAE:  0.5331\n",
      "Precision:  0.939\n",
      "Recall:  0.98\n",
      "F_1 score:  0.959\n"
     ]
    }
   ],
   "source": [
    "precision_recall_at_k(svd)"
   ]
  },
  {
   "cell_type": "code",
   "execution_count": 30,
   "id": "da5d98da",
   "metadata": {},
   "outputs": [],
   "source": [
    "filename = 'cocluster_model.pkl'\n",
    "CoCluster = pickle.load(open(filename, 'rb'))"
   ]
  },
  {
   "cell_type": "code",
   "execution_count": 31,
   "id": "ffff10ad",
   "metadata": {},
   "outputs": [
    {
     "name": "stdout",
     "output_type": "stream",
     "text": [
      "RMSE: 0.9475\n",
      "MAE:  0.7325\n",
      "Precision:  0.934\n",
      "Recall:  0.975\n",
      "F_1 score:  0.954\n"
     ]
    }
   ],
   "source": [
    "precision_recall_at_k(CoCluster)"
   ]
  },
  {
   "cell_type": "code",
   "execution_count": null,
   "id": "469cc71e",
   "metadata": {},
   "outputs": [],
   "source": []
  }
 ],
 "metadata": {
  "kernelspec": {
   "display_name": "Python 3 (ipykernel)",
   "language": "python",
   "name": "python3"
  },
  "language_info": {
   "codemirror_mode": {
    "name": "ipython",
    "version": 3
   },
   "file_extension": ".py",
   "mimetype": "text/x-python",
   "name": "python",
   "nbconvert_exporter": "python",
   "pygments_lexer": "ipython3",
   "version": "3.11.6"
  }
 },
 "nbformat": 4,
 "nbformat_minor": 5
}
