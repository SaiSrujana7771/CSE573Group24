{
 "cells": [
  {
   "cell_type": "code",
   "execution_count": 1,
   "id": "f87fbb5e",
   "metadata": {},
   "outputs": [
    {
     "name": "stdout",
     "output_type": "stream",
     "text": [
      "Defaulting to user installation because normal site-packages is not writeable\n",
      "Collecting surprise\n",
      "  Downloading surprise-0.1-py2.py3-none-any.whl (1.8 kB)\n",
      "Collecting scikit-surprise (from surprise)\n",
      "  Downloading scikit-surprise-1.1.3.tar.gz (771 kB)\n",
      "\u001b[2K     \u001b[90m━━━━━━━━━━━━━━━━━━━━━━━━━━━━━━━━━━━━━━\u001b[0m \u001b[32m772.0/772.0 kB\u001b[0m \u001b[31m10.4 MB/s\u001b[0m eta \u001b[36m0:00:00\u001b[0m00:01\u001b[0m00:01\u001b[0m\n",
      "\u001b[?25h  Preparing metadata (setup.py) ... \u001b[?25ldone\n",
      "\u001b[?25hRequirement already satisfied: joblib>=1.0.0 in /packages/apps/jupyter/2023-10-09/lib/python3.11/site-packages (from scikit-surprise->surprise) (1.3.2)\n",
      "Requirement already satisfied: numpy>=1.17.3 in /packages/apps/jupyter/2023-10-09/lib/python3.11/site-packages (from scikit-surprise->surprise) (1.26.0)\n",
      "Requirement already satisfied: scipy>=1.3.2 in /packages/apps/jupyter/2023-10-09/lib/python3.11/site-packages (from scikit-surprise->surprise) (1.11.3)\n",
      "Building wheels for collected packages: scikit-surprise\n",
      "  Building wheel for scikit-surprise (setup.py) ... \u001b[?25ldone\n",
      "\u001b[?25h  Created wheel for scikit-surprise: filename=scikit_surprise-1.1.3-cp311-cp311-linux_x86_64.whl size=1199980 sha256=d0fba5c2393e89955af179dd3020d3e7d53658ba1d14d7dc9b884ba5af4dc095\n",
      "  Stored in directory: /home/hshah78/.cache/pip/wheels/f4/2b/26/e2a5eae55d3b7688995e66abe7f40473aac6c95ddd8ee174a8\n",
      "Successfully built scikit-surprise\n",
      "Installing collected packages: scikit-surprise, surprise\n",
      "Successfully installed scikit-surprise-1.1.3 surprise-0.1\n"
     ]
    }
   ],
   "source": [
    "!pip install surprise"
   ]
  },
  {
   "cell_type": "code",
   "execution_count": 2,
   "id": "d885253b",
   "metadata": {},
   "outputs": [],
   "source": [
    "import warnings\n",
    "warnings.filterwarnings('ignore')\n",
    "import numpy as np\n",
    "import pandas as pd\n",
    "from collections import defaultdict\n",
    "import matplotlib.pyplot as plt\n",
    "import seaborn as sns\n",
    "from surprise import accuracy\n",
    "from surprise.reader import Reader\n",
    "from surprise.dataset import Dataset\n",
    "from surprise.model_selection import GridSearchCV\n",
    "from surprise.model_selection import train_test_split\n",
    "from surprise.prediction_algorithms.knns import KNNBasic\n",
    "from surprise.prediction_algorithms.matrix_factorization import SVD\n",
    "from surprise.model_selection import KFold\n",
    "from surprise import CoClustering\n",
    "from collections import deque\n",
    "import random\n",
    "import pickle"
   ]
  },
  {
   "cell_type": "code",
   "execution_count": 3,
   "id": "ea489112-f693-4210-ba10-433eb051a4d2",
   "metadata": {},
   "outputs": [
    {
     "name": "stdout",
     "output_type": "stream",
     "text": [
      "There are 3 GPU(s) available.\n",
      "We will use the GPU: NVIDIA A30\n"
     ]
    }
   ],
   "source": [
    "import torch\n",
    "\n",
    "# If there's a GPU available...\n",
    "if torch.cuda.is_available():\n",
    "\n",
    "    # Tell PyTorch to use the GPU.\n",
    "    device = torch.device(\"cuda\")\n",
    "\n",
    "    print('There are %d GPU(s) available.' % torch.cuda.device_count())\n",
    "\n",
    "    print('We will use the GPU:', torch.cuda.get_device_name(0))\n",
    "\n",
    "# If not...\n",
    "else:\n",
    "    print('No GPU available, using the CPU instead.')\n",
    "    device = torch.device(\"cpu\")"
   ]
  },
  {
   "cell_type": "code",
   "execution_count": 4,
   "id": "edb4af35",
   "metadata": {},
   "outputs": [],
   "source": [
    "movie_titles = pd.read_csv('movie_titles.csv', encoding = 'ISO-8859-1', header = None, names = ['Id', 'Year', 'Name']).set_index('Id')"
   ]
  },
  {
   "cell_type": "code",
   "execution_count": 5,
   "id": "13dc1675-4529-4f37-85ac-9e7c2c19fb28",
   "metadata": {},
   "outputs": [
    {
     "data": {
      "text/html": [
       "<div>\n",
       "<style scoped>\n",
       "    .dataframe tbody tr th:only-of-type {\n",
       "        vertical-align: middle;\n",
       "    }\n",
       "\n",
       "    .dataframe tbody tr th {\n",
       "        vertical-align: top;\n",
       "    }\n",
       "\n",
       "    .dataframe thead th {\n",
       "        text-align: right;\n",
       "    }\n",
       "</style>\n",
       "<table border=\"1\" class=\"dataframe\">\n",
       "  <thead>\n",
       "    <tr style=\"text-align: right;\">\n",
       "      <th></th>\n",
       "      <th>Year</th>\n",
       "      <th>Name</th>\n",
       "    </tr>\n",
       "    <tr>\n",
       "      <th>Id</th>\n",
       "      <th></th>\n",
       "      <th></th>\n",
       "    </tr>\n",
       "  </thead>\n",
       "  <tbody>\n",
       "    <tr>\n",
       "      <th>1</th>\n",
       "      <td>2003.0</td>\n",
       "      <td>Dinosaur Planet</td>\n",
       "    </tr>\n",
       "    <tr>\n",
       "      <th>2</th>\n",
       "      <td>2004.0</td>\n",
       "      <td>Isle of Man TT 2004 Review</td>\n",
       "    </tr>\n",
       "    <tr>\n",
       "      <th>3</th>\n",
       "      <td>1997.0</td>\n",
       "      <td>Character</td>\n",
       "    </tr>\n",
       "    <tr>\n",
       "      <th>4</th>\n",
       "      <td>1994.0</td>\n",
       "      <td>Paula Abdul's Get Up &amp; Dance</td>\n",
       "    </tr>\n",
       "    <tr>\n",
       "      <th>5</th>\n",
       "      <td>2004.0</td>\n",
       "      <td>The Rise and Fall of ECW</td>\n",
       "    </tr>\n",
       "    <tr>\n",
       "      <th>...</th>\n",
       "      <td>...</td>\n",
       "      <td>...</td>\n",
       "    </tr>\n",
       "    <tr>\n",
       "      <th>17766</th>\n",
       "      <td>2002.0</td>\n",
       "      <td>Where the Wild Things Are and Other Maurice Se...</td>\n",
       "    </tr>\n",
       "    <tr>\n",
       "      <th>17767</th>\n",
       "      <td>2004.0</td>\n",
       "      <td>Fidel Castro: American Experience</td>\n",
       "    </tr>\n",
       "    <tr>\n",
       "      <th>17768</th>\n",
       "      <td>2000.0</td>\n",
       "      <td>Epoch</td>\n",
       "    </tr>\n",
       "    <tr>\n",
       "      <th>17769</th>\n",
       "      <td>2003.0</td>\n",
       "      <td>The Company</td>\n",
       "    </tr>\n",
       "    <tr>\n",
       "      <th>17770</th>\n",
       "      <td>2003.0</td>\n",
       "      <td>Alien Hunter</td>\n",
       "    </tr>\n",
       "  </tbody>\n",
       "</table>\n",
       "<p>17770 rows × 2 columns</p>\n",
       "</div>"
      ],
      "text/plain": [
       "         Year                                               Name\n",
       "Id                                                              \n",
       "1      2003.0                                 Dinosaur Planet   \n",
       "2      2004.0                         Isle of Man TT 2004 Review\n",
       "3      1997.0                                       Character   \n",
       "4      1994.0                    Paula Abdul's Get Up & Dance   \n",
       "5      2004.0                        The Rise and Fall of ECW   \n",
       "...       ...                                                ...\n",
       "17766  2002.0  Where the Wild Things Are and Other Maurice Se...\n",
       "17767  2004.0               Fidel Castro: American Experience   \n",
       "17768  2000.0                                           Epoch   \n",
       "17769  2003.0                                     The Company   \n",
       "17770  2003.0                                    Alien Hunter   \n",
       "\n",
       "[17770 rows x 2 columns]"
      ]
     },
     "execution_count": 5,
     "metadata": {},
     "output_type": "execute_result"
    }
   ],
   "source": [
    "movie_titles"
   ]
  },
  {
   "cell_type": "code",
   "execution_count": 6,
   "id": "3f56a873",
   "metadata": {},
   "outputs": [],
   "source": [
    "def summary_report(data):\n",
    "    r, c = data.shape\n",
    "    t_sparce = 0\n",
    "    t_nunique = 0\n",
    "    for n in data.columns:\n",
    "        col = data[n]\n",
    "        sparce = round(round(col.isna().sum() / r, 2) * 100, 2)\n",
    "        nunique = col.nunique()\n",
    "        \n",
    "        t_sparce = t_sparce + sparce\n",
    "        t_nunique = t_nunique + nunique\n",
    "        \n",
    "        print(str(n) + \" is \" + str(sparce) + \"% empty. (\" + str(data[n].isna().sum()) + \" null values)\")\n",
    "        print(f\"The column has \" + str(nunique) + \" unique elements.\")\n",
    "        print(\"\\n\")\n",
    "    \n",
    "    data.info()\n",
    "    print(f\"The shape of the dataset is \" + str(r) + \" rows and \" + str(c) + \" columns.\")\n",
    "    print(f\"The dataset is \" + str(round(c / t_sparce, 2)) + \"% dense and contains \" + str(t_nunique) + \" unique elements.\" )"
   ]
  },
  {
   "cell_type": "code",
   "execution_count": 9,
   "id": "0b8e5952",
   "metadata": {},
   "outputs": [
    {
     "name": "stdout",
     "output_type": "stream",
     "text": [
      "Dataset 1 shape: (24058263, 2)\n",
      "Dataset 2 shape: (26982302, 2)\n",
      "Dataset 3 shape: (22605786, 2)\n",
      "Dataset 4 shape: (26851926, 2)\n",
      "Shape Cust_Id-Ratings:\t(100479960, 3)\n"
     ]
    },
    {
     "data": {
      "text/html": [
       "<div>\n",
       "<style scoped>\n",
       "    .dataframe tbody tr th:only-of-type {\n",
       "        vertical-align: middle;\n",
       "    }\n",
       "\n",
       "    .dataframe tbody tr th {\n",
       "        vertical-align: top;\n",
       "    }\n",
       "\n",
       "    .dataframe thead th {\n",
       "        text-align: right;\n",
       "    }\n",
       "</style>\n",
       "<table border=\"1\" class=\"dataframe\">\n",
       "  <thead>\n",
       "    <tr style=\"text-align: right;\">\n",
       "      <th></th>\n",
       "      <th>Cust_Id</th>\n",
       "      <th>Rating</th>\n",
       "      <th>Movie</th>\n",
       "    </tr>\n",
       "  </thead>\n",
       "  <tbody>\n",
       "    <tr>\n",
       "      <th>90032264</th>\n",
       "      <td>345075</td>\n",
       "      <td>4.0</td>\n",
       "      <td>16008</td>\n",
       "    </tr>\n",
       "    <tr>\n",
       "      <th>35903500</th>\n",
       "      <td>2626823</td>\n",
       "      <td>2.0</td>\n",
       "      <td>6386</td>\n",
       "    </tr>\n",
       "    <tr>\n",
       "      <th>52767625</th>\n",
       "      <td>1686543</td>\n",
       "      <td>5.0</td>\n",
       "      <td>9598</td>\n",
       "    </tr>\n",
       "    <tr>\n",
       "      <th>27684811</th>\n",
       "      <td>2087505</td>\n",
       "      <td>1.0</td>\n",
       "      <td>5106</td>\n",
       "    </tr>\n",
       "    <tr>\n",
       "      <th>23935741</th>\n",
       "      <td>209494</td>\n",
       "      <td>5.0</td>\n",
       "      <td>4472</td>\n",
       "    </tr>\n",
       "  </tbody>\n",
       "</table>\n",
       "</div>"
      ],
      "text/plain": [
       "          Cust_Id  Rating  Movie\n",
       "90032264   345075     4.0  16008\n",
       "35903500  2626823     2.0   6386\n",
       "52767625  1686543     5.0   9598\n",
       "27684811  2087505     1.0   5106\n",
       "23935741   209494     5.0   4472"
      ]
     },
     "execution_count": 9,
     "metadata": {},
     "output_type": "execute_result"
    }
   ],
   "source": [
    "df1 = pd.read_csv('combined_data_1.txt', header = None, names = ['Cust_Id', 'Rating'], usecols = [0,1], low_memory=False)\n",
    "df2 = pd.read_csv('combined_data_2.txt', header = None, names = ['Cust_Id', 'Rating'], usecols = [0,1], low_memory=False)\n",
    "df3 = pd.read_csv('combined_data_3.txt', header = None, names = ['Cust_Id', 'Rating'], usecols = [0,1], low_memory=False)\n",
    "df4 = pd.read_csv('combined_data_4.txt', header = None, names = ['Cust_Id', 'Rating'], usecols = [0,1], low_memory=False)\n",
    "\n",
    "df1['Rating'] = df1['Rating'].astype(float)\n",
    "df2['Rating'] = df2['Rating'].astype(float)\n",
    "df3['Rating'] = df3['Rating'].astype(float)\n",
    "df4['Rating'] = df4['Rating'].astype(float)\n",
    "\n",
    "print('Dataset 1 shape: {}'.format(df1.shape))\n",
    "print('Dataset 2 shape: {}'.format(df2.shape))\n",
    "print('Dataset 3 shape: {}'.format(df3.shape))\n",
    "print('Dataset 4 shape: {}'.format(df4.shape))\n",
    "\n",
    "frames = [df1, df2, df3, df4]\n",
    "df = pd.concat(frames)\n",
    "\n",
    "df.index = np.arange(0,len(df))\n",
    "df = df[1:len(df)]\n",
    "tmp_movies = df[df['Rating'].isna()]['Cust_Id'].reset_index()\n",
    "movie_indices = [[index, int(movie[:-1])] for index, movie in tmp_movies.values]\n",
    "shifted_movie_indices = deque(movie_indices)\n",
    "shifted_movie_indices.rotate(-1)\n",
    "\n",
    "user_data = []\n",
    "\n",
    "for [df_id_1, movie_id], [df_id_2, next_movie_id] in zip(movie_indices, shifted_movie_indices):\n",
    "    \n",
    "    if df_id_1<df_id_2:\n",
    "        tmp_df = df.loc[df_id_1+1:df_id_2-1].copy()\n",
    "    else:\n",
    "        tmp_df = df.loc[df_id_1+1:].copy()\n",
    "        \n",
    "    tmp_df['Movie'] = movie_id\n",
    "    user_data.append(tmp_df)\n",
    "\n",
    "rating = pd.concat(user_data)\n",
    "del user_data, df, tmp_movies, tmp_df, shifted_movie_indices, movie_indices, df_id_1, movie_id, df_id_2, next_movie_id\n",
    "print('Shape Cust_Id-Ratings:\\t{}'.format(rating.shape))\n",
    "rating.sample(5)"
   ]
  },
  {
   "cell_type": "code",
   "execution_count": 10,
   "id": "39b35aac",
   "metadata": {},
   "outputs": [
    {
     "data": {
      "text/plain": [
       "(100479960, 3)"
      ]
     },
     "execution_count": 10,
     "metadata": {},
     "output_type": "execute_result"
    }
   ],
   "source": [
    "ratings = rating[['Cust_Id','Movie','Rating']]\n",
    "ratings.columns = ['userId','movieId','rating']\n",
    "ratings_dict = {'itemID': list(ratings.movieId),\n",
    "                'userID': list(ratings.userId),\n",
    "                'rating': list(ratings.rating)}\n",
    "\n",
    "df = pd.DataFrame(ratings_dict)\n",
    "df.shape"
   ]
  },
  {
   "cell_type": "code",
   "execution_count": 12,
   "id": "71e25634",
   "metadata": {},
   "outputs": [
    {
     "data": {
      "text/plain": [
       "<Axes: xlabel='rating', ylabel='Count'>"
      ]
     },
     "execution_count": 12,
     "metadata": {},
     "output_type": "execute_result"
    },
    {
     "data": {
      "image/png": "[encoded data removed]",
      "text/plain": [
       "<Figure size 640x480 with 1 Axes>"
      ]
     },
     "metadata": {},
     "output_type": "display_data"
    }
   ],
   "source": [
    "sns.histplot(df.sample(1000)['rating'])"
   ]
  },
  {
   "cell_type": "code",
   "execution_count": 13,
   "id": "27bc0277",
   "metadata": {},
   "outputs": [
    {
     "name": "stdout",
     "output_type": "stream",
     "text": [
      "itemID is 0.0% empty. (0 null values)\n",
      "The column has 17769 unique elements.\n",
      "\n",
      "\n",
      "userID is 0.0% empty. (0 null values)\n",
      "The column has 480189 unique elements.\n",
      "\n",
      "\n",
      "rating is 0.0% empty. (0 null values)\n",
      "The column has 5 unique elements.\n",
      "\n",
      "\n",
      "<class 'pandas.core.frame.DataFrame'>\n",
      "RangeIndex: 100479960 entries, 0 to 100479959\n",
      "Data columns (total 3 columns):\n",
      " #   Column  Dtype  \n",
      "---  ------  -----  \n",
      " 0   itemID  int64  \n",
      " 1   userID  object \n",
      " 2   rating  float64\n",
      "dtypes: float64(1), int64(1), object(1)\n",
      "memory usage: 2.2+ GB\n",
      "The shape of the dataset is 100479960 rows and 3 columns.\n",
      "The dataset is inf% dense and contains 497963 unique elements.\n"
     ]
    }
   ],
   "source": [
    "summary_report(df)"
   ]
  },
  {
   "cell_type": "code",
   "execution_count": 14,
   "id": "fdbe7a4a",
   "metadata": {},
   "outputs": [],
   "source": [
    "customers = df.userID\n",
    "ratings_count = dict()\n",
    "for customer in customers:\n",
    "    if customer in ratings_count:\n",
    "        ratings_count[customer] += 1\n",
    "    else:\n",
    "        ratings_count[customer] = 1"
   ]
  },
  {
   "cell_type": "code",
   "execution_count": 15,
   "id": "44fb72fe",
   "metadata": {},
   "outputs": [
    {
     "data": {
      "text/plain": [
       "<Axes: ylabel='Count'>"
      ]
     },
     "execution_count": 15,
     "metadata": {},
     "output_type": "execute_result"
    },
    {
     "data": {
      "image/png": "[encoded data removed]",
      "text/plain": [
       "<Figure size 640x480 with 1 Axes>"
      ]
     },
     "metadata": {},
     "output_type": "display_data"
    }
   ],
   "source": [
    "sns.histplot(ratings_count.values())"
   ]
  },
  {
   "cell_type": "code",
   "execution_count": 16,
   "id": "2af9e6cf",
   "metadata": {},
   "outputs": [],
   "source": [
    "lower = 10\n",
    "upper = 400\n",
    "remove_customer = []\n",
    "for customer, num_ratings in ratings_count.items():\n",
    "    if num_ratings < lower or num_ratings > upper:\n",
    "        remove_customer.append(customer)\n",
    "df = df.loc[~df.userID.isin(remove_customer)]"
   ]
  },
  {
   "cell_type": "code",
   "execution_count": 17,
   "id": "78376c8d",
   "metadata": {},
   "outputs": [
    {
     "name": "stdout",
     "output_type": "stream",
     "text": [
      "itemID is 0.0% empty. (0 null values)\n",
      "The column has 17768 unique elements.\n",
      "\n",
      "\n",
      "userID is 0.0% empty. (0 null values)\n",
      "The column has 389499 unique elements.\n",
      "\n",
      "\n",
      "rating is 0.0% empty. (0 null values)\n",
      "The column has 5 unique elements.\n",
      "\n",
      "\n",
      "<class 'pandas.core.frame.DataFrame'>\n",
      "Index: 44428923 entries, 0 to 100479953\n",
      "Data columns (total 3 columns):\n",
      " #   Column  Dtype  \n",
      "---  ------  -----  \n",
      " 0   itemID  int64  \n",
      " 1   userID  object \n",
      " 2   rating  float64\n",
      "dtypes: float64(1), int64(1), object(1)\n",
      "memory usage: 1.3+ GB\n",
      "The shape of the dataset is 44428923 rows and 3 columns.\n",
      "The dataset is inf% dense and contains 407272 unique elements.\n"
     ]
    }
   ],
   "source": [
    "summary_report(df)"
   ]
  },
  {
   "cell_type": "code",
   "execution_count": 18,
   "id": "a87b64f2",
   "metadata": {},
   "outputs": [],
   "source": [
    "customers_edit = df.userID\n",
    "ratings_count_edit = dict()\n",
    "for customer in customers_edit:\n",
    "    if customer in ratings_count_edit:\n",
    "        ratings_count_edit[customer] += 1\n",
    "    else:\n",
    "        ratings_count_edit[customer] = 1"
   ]
  },
  {
   "cell_type": "code",
   "execution_count": 19,
   "id": "ddd92a31",
   "metadata": {},
   "outputs": [
    {
     "data": {
      "text/plain": [
       "<Axes: ylabel='Count'>"
      ]
     },
     "execution_count": 19,
     "metadata": {},
     "output_type": "execute_result"
    },
    {
     "data": {
      "image/png": "[encoded data removed]",
      "text/plain": [
       "<Figure size 640x480 with 1 Axes>"
      ]
     },
     "metadata": {},
     "output_type": "display_data"
    }
   ],
   "source": [
    "sns.histplot(ratings_count_edit.values())"
   ]
  },
  {
   "cell_type": "code",
   "execution_count": 20,
   "id": "ae4c344b",
   "metadata": {},
   "outputs": [],
   "source": [
    "movies = df.itemID\n",
    "ratings_count = dict()\n",
    "for movie in movies:\n",
    "    if movie in ratings_count:\n",
    "        ratings_count[movie] += 1\n",
    "    else:\n",
    "        ratings_count[movie] = 1"
   ]
  },
  {
   "cell_type": "code",
   "execution_count": 21,
   "id": "d6810e20",
   "metadata": {},
   "outputs": [
    {
     "data": {
      "text/plain": [
       "<Axes: ylabel='Count'>"
      ]
     },
     "execution_count": 21,
     "metadata": {},
     "output_type": "execute_result"
    },
    {
     "data": {
      "image/png": "[encoded data removed]",
      "text/plain": [
       "<Figure size 640x480 with 1 Axes>"
      ]
     },
     "metadata": {},
     "output_type": "display_data"
    }
   ],
   "source": [
    "sns.histplot(ratings_count.values())"
   ]
  },
  {
   "cell_type": "code",
   "execution_count": 22,
   "id": "46d0fc17",
   "metadata": {},
   "outputs": [],
   "source": [
    "lower = 10\n",
    "upper = 10000\n",
    "remove_item = []\n",
    "for item, num_ratings in ratings_count.items():\n",
    "    if num_ratings < lower or num_ratings > upper:\n",
    "        remove_item.append(item)\n",
    "df = df.loc[~df.itemID.isin(remove_item)]"
   ]
  },
  {
   "cell_type": "code",
   "execution_count": 23,
   "id": "88045122",
   "metadata": {},
   "outputs": [],
   "source": [
    "movies_edit = df.itemID\n",
    "ratings_count_edit = dict()\n",
    "for movie in movies_edit:\n",
    "    if movie in ratings_count_edit:\n",
    "        ratings_count_edit[movie] += 1\n",
    "    else:\n",
    "        ratings_count_edit[movie] = 1"
   ]
  },
  {
   "cell_type": "code",
   "execution_count": 24,
   "id": "1fd9acba",
   "metadata": {},
   "outputs": [
    {
     "data": {
      "text/plain": [
       "<Axes: ylabel='Count'>"
      ]
     },
     "execution_count": 24,
     "metadata": {},
     "output_type": "execute_result"
    },
    {
     "data": {
      "image/png": "[encoded data removed]",
      "text/plain": [
       "<Figure size 640x480 with 1 Axes>"
      ]
     },
     "metadata": {},
     "output_type": "display_data"
    }
   ],
   "source": [
    "sns.histplot(ratings_count_edit.values())"
   ]
  },
  {
   "cell_type": "code",
   "execution_count": 25,
   "id": "e432efca",
   "metadata": {},
   "outputs": [
    {
     "name": "stdout",
     "output_type": "stream",
     "text": [
      "itemID is 0.0% empty. (0 null values)\n",
      "The column has 16801 unique elements.\n",
      "\n",
      "\n",
      "userID is 0.0% empty. (0 null values)\n",
      "The column has 375898 unique elements.\n",
      "\n",
      "\n",
      "rating is 0.0% empty. (0 null values)\n",
      "The column has 5 unique elements.\n",
      "\n",
      "\n",
      "<class 'pandas.core.frame.DataFrame'>\n",
      "Index: 12669476 entries, 0 to 100479953\n",
      "Data columns (total 3 columns):\n",
      " #   Column  Dtype  \n",
      "---  ------  -----  \n",
      " 0   itemID  int64  \n",
      " 1   userID  object \n",
      " 2   rating  float64\n",
      "dtypes: float64(1), int64(1), object(1)\n",
      "memory usage: 386.6+ MB\n",
      "The shape of the dataset is 12669476 rows and 3 columns.\n",
      "The dataset is inf% dense and contains 392704 unique elements.\n"
     ]
    }
   ],
   "source": [
    "summary_report(df)"
   ]
  },
  {
   "cell_type": "code",
   "execution_count": 27,
   "id": "6d728597",
   "metadata": {},
   "outputs": [
    {
     "data": {
      "text/html": [
       "<div>\n",
       "<style scoped>\n",
       "    .dataframe tbody tr th:only-of-type {\n",
       "        vertical-align: middle;\n",
       "    }\n",
       "\n",
       "    .dataframe tbody tr th {\n",
       "        vertical-align: top;\n",
       "    }\n",
       "\n",
       "    .dataframe thead th {\n",
       "        text-align: right;\n",
       "    }\n",
       "</style>\n",
       "<table border=\"1\" class=\"dataframe\">\n",
       "  <thead>\n",
       "    <tr style=\"text-align: right;\">\n",
       "      <th></th>\n",
       "      <th>avg_count</th>\n",
       "      <th>play_freq</th>\n",
       "    </tr>\n",
       "    <tr>\n",
       "      <th>itemID</th>\n",
       "      <th></th>\n",
       "      <th></th>\n",
       "    </tr>\n",
       "  </thead>\n",
       "  <tbody>\n",
       "    <tr>\n",
       "      <th>8964</th>\n",
       "      <td>5.000000</td>\n",
       "      <td>10</td>\n",
       "    </tr>\n",
       "    <tr>\n",
       "      <th>14791</th>\n",
       "      <td>4.857143</td>\n",
       "      <td>35</td>\n",
       "    </tr>\n",
       "    <tr>\n",
       "      <th>5684</th>\n",
       "      <td>4.777778</td>\n",
       "      <td>27</td>\n",
       "    </tr>\n",
       "    <tr>\n",
       "      <th>12398</th>\n",
       "      <td>4.741344</td>\n",
       "      <td>491</td>\n",
       "    </tr>\n",
       "    <tr>\n",
       "      <th>3033</th>\n",
       "      <td>4.737374</td>\n",
       "      <td>99</td>\n",
       "    </tr>\n",
       "  </tbody>\n",
       "</table>\n",
       "</div>"
      ],
      "text/plain": [
       "        avg_count  play_freq\n",
       "itemID                      \n",
       "8964     5.000000         10\n",
       "14791    4.857143         35\n",
       "5684     4.777778         27\n",
       "12398    4.741344        491\n",
       "3033     4.737374         99"
      ]
     },
     "execution_count": 27,
     "metadata": {},
     "output_type": "execute_result"
    }
   ],
   "source": [
    "average_count = df.groupby('itemID').mean(numeric_only = True)['rating']\n",
    "play_freq = df.groupby('itemID').count()['rating']\n",
    "final_play = pd.DataFrame({'avg_count':average_count,'play_freq':play_freq})\n",
    "final_play = final_play.sort_values(by = 'avg_count', ascending = False)\n",
    "final_play.head()"
   ]
  },
  {
   "cell_type": "code",
   "execution_count": 28,
   "id": "16019154",
   "metadata": {},
   "outputs": [
    {
     "data": {
      "text/plain": [
       "Index([5280, 10729, 14288, 9713, 6512, 9786, 9475, 17391, 9012, 5513], dtype='int64', name='itemID')"
      ]
     },
     "execution_count": 28,
     "metadata": {},
     "output_type": "execute_result"
    }
   ],
   "source": [
    "def top_n_items(final_rating, n, min_interaction):\n",
    "    recommendations = final_rating[final_rating['avg_count'] > min_interaction]\n",
    "    recommendations = recommendations.sort_values(by = 'avg_count')\n",
    "    return recommendations.index[:n]\n",
    "\n",
    "top_n_items(final_play, 10, 4)"
   ]
  },
  {
   "cell_type": "code",
   "execution_count": 34,
   "id": "d71b4f37",
   "metadata": {},
   "outputs": [],
   "source": [
    "reader = Reader(rating_scale = (0,5))\n",
    "data = Dataset.load_from_df(df[[\"userID\", \"itemID\", \"rating\"]], reader)\n",
    "trainset, testset = train_test_split(data, test_size=.2, random_state=42)"
   ]
  },
  {
   "cell_type": "code",
   "execution_count": 36,
   "id": "629373ce-9f54-46b7-a416-2039cf3fc0e4",
   "metadata": {},
   "outputs": [],
   "source": [
    "trainset = data.build_full_trainset()"
   ]
  },
  {
   "cell_type": "code",
   "execution_count": 37,
   "id": "fc3b74ea",
   "metadata": {},
   "outputs": [
    {
     "name": "stdout",
     "output_type": "stream",
     "text": [
      "Computing the cosine similarity matrix...\n",
      "Done computing similarity matrix.\n"
     ]
    },
    {
     "data": {
      "text/plain": [
       "<surprise.prediction_algorithms.knns.KNNBasic at 0x154d00ad8790>"
      ]
     },
     "execution_count": 37,
     "metadata": {},
     "output_type": "execute_result"
    }
   ],
   "source": [
    "sim_options = {'name': 'cosine', 'user_based':False}\n",
    "\n",
    "sim_user_user = KNNBasic(sim_options=sim_options, random_state=1)\n",
    "sim_user_user.fit(trainset)"
   ]
  },
  {
   "cell_type": "code",
   "execution_count": 39,
   "id": "353d04eb",
   "metadata": {},
   "outputs": [],
   "source": [
    "filename = 'user_user_model.pkl'\n",
    "pickle.dump(sim_user_user, open(filename, 'wb'))"
   ]
  },
  {
   "cell_type": "code",
   "execution_count": 40,
   "id": "d82fe59a",
   "metadata": {},
   "outputs": [],
   "source": [
    "def get_recommendations(data, user_id, top_n, algo):\n",
    "    recommendations = []\n",
    "    user_item_interactions_matrix = data.pivot_table(index='userID', columns='itemID', values='rating')\n",
    "    \n",
    "    non_interacted_products = user_item_interactions_matrix.loc[user_id][user_item_interactions_matrix.loc[user_id].isnull()].index.tolist()\n",
    "    \n",
    "    for item_id in non_interacted_products:\n",
    "        \n",
    "        est = algo.predict(user_id, item_id).est\n",
    "        \n",
    "        recommendations.append((item_id, est))\n",
    "\n",
    "    recommendations.sort(key=lambda x: x[1], reverse=True)\n",
    "\n",
    "    return recommendations[:top_n]"
   ]
  },
  {
   "cell_type": "code",
   "execution_count": 42,
   "id": "66e1ec99",
   "metadata": {},
   "outputs": [
    {
     "name": "stdout",
     "output_type": "stream",
     "text": [
      "[(14518, 5), (4860, 4.8), (9504, 4.71403585248571), (5098, 4.5), (12888, 4.5)]\n"
     ]
    }
   ],
   "source": [
    "random_user = random.choice(list(df.userID))\n",
    "recommendations = get_recommendations(df, str(random_user), 5, sim_user_user)\n",
    "print(recommendations)"
   ]
  },
  {
   "cell_type": "code",
   "execution_count": 43,
   "id": "3ad30544",
   "metadata": {},
   "outputs": [],
   "source": [
    "def ranking_items(recommendations, final_rating):\n",
    "    ranked_items = final_rating.loc[[items[0] for items in recommendations]].sort_values('play_freq', ascending = False)[['play_freq']].reset_index()\n",
    "    ranked_items = ranked_items.merge(pd.DataFrame(recommendations, columns = ['itemID', 'predicted_ratings']), on = ['itemID'], how = 'inner')\n",
    "    ranked_items['corrected_ratings'] = ranked_items['predicted_ratings'] - 1 / np.sqrt(ranked_items['play_freq'])\n",
    "    ranked_items = ranked_items.sort_values('corrected_ratings', ascending = False)\n",
    "    return ranked_items"
   ]
  },
  {
   "cell_type": "code",
   "execution_count": 44,
   "id": "24c86e73",
   "metadata": {},
   "outputs": [
    {
     "data": {
      "text/html": [
       "<div>\n",
       "<style scoped>\n",
       "    .dataframe tbody tr th:only-of-type {\n",
       "        vertical-align: middle;\n",
       "    }\n",
       "\n",
       "    .dataframe tbody tr th {\n",
       "        vertical-align: top;\n",
       "    }\n",
       "\n",
       "    .dataframe thead th {\n",
       "        text-align: right;\n",
       "    }\n",
       "</style>\n",
       "<table border=\"1\" class=\"dataframe\">\n",
       "  <thead>\n",
       "    <tr style=\"text-align: right;\">\n",
       "      <th></th>\n",
       "      <th>itemID</th>\n",
       "      <th>play_freq</th>\n",
       "      <th>predicted_ratings</th>\n",
       "      <th>corrected_ratings</th>\n",
       "    </tr>\n",
       "  </thead>\n",
       "  <tbody>\n",
       "    <tr>\n",
       "      <th>4</th>\n",
       "      <td>14518</td>\n",
       "      <td>10</td>\n",
       "      <td>5.000000</td>\n",
       "      <td>4.683772</td>\n",
       "    </tr>\n",
       "    <tr>\n",
       "      <th>2</th>\n",
       "      <td>4860</td>\n",
       "      <td>28</td>\n",
       "      <td>4.800000</td>\n",
       "      <td>4.611018</td>\n",
       "    </tr>\n",
       "    <tr>\n",
       "      <th>0</th>\n",
       "      <td>9504</td>\n",
       "      <td>41</td>\n",
       "      <td>4.714036</td>\n",
       "      <td>4.557862</td>\n",
       "    </tr>\n",
       "    <tr>\n",
       "      <th>1</th>\n",
       "      <td>5098</td>\n",
       "      <td>37</td>\n",
       "      <td>4.500000</td>\n",
       "      <td>4.335601</td>\n",
       "    </tr>\n",
       "    <tr>\n",
       "      <th>3</th>\n",
       "      <td>12888</td>\n",
       "      <td>26</td>\n",
       "      <td>4.500000</td>\n",
       "      <td>4.303884</td>\n",
       "    </tr>\n",
       "  </tbody>\n",
       "</table>\n",
       "</div>"
      ],
      "text/plain": [
       "   itemID  play_freq  predicted_ratings  corrected_ratings\n",
       "4   14518         10           5.000000           4.683772\n",
       "2    4860         28           4.800000           4.611018\n",
       "0    9504         41           4.714036           4.557862\n",
       "1    5098         37           4.500000           4.335601\n",
       "3   12888         26           4.500000           4.303884"
      ]
     },
     "execution_count": 44,
     "metadata": {},
     "output_type": "execute_result"
    }
   ],
   "source": [
    "ranking_items(recommendations, final_play)"
   ]
  },
  {
   "cell_type": "code",
   "execution_count": 45,
   "id": "7bf672c2",
   "metadata": {},
   "outputs": [
    {
     "data": {
      "text/plain": [
       "<surprise.prediction_algorithms.matrix_factorization.SVD at 0x1552f6a83450>"
      ]
     },
     "execution_count": 45,
     "metadata": {},
     "output_type": "execute_result"
    }
   ],
   "source": [
    "svd = SVD()\n",
    "svd.fit(trainset)"
   ]
  },
  {
   "cell_type": "code",
   "execution_count": 47,
   "id": "738228f2",
   "metadata": {},
   "outputs": [],
   "source": [
    "filename = 'svd_model.pkl'\n",
    "pickle.dump(svd, open(filename, 'wb'))"
   ]
  },
  {
   "cell_type": "code",
   "execution_count": 48,
   "id": "43b9ee18",
   "metadata": {},
   "outputs": [
    {
     "data": {
      "text/plain": [
       "Prediction(uid='2075270', iid=8099, r_ui=None, est=3.2279859550378003, details={'was_impossible': False})"
      ]
     },
     "execution_count": 48,
     "metadata": {},
     "output_type": "execute_result"
    }
   ],
   "source": [
    "random_user = random.choice(list(df.userID))\n",
    "random_item = random.choice(list(df.itemID))\n",
    "\n",
    "svd.predict(random_user, random_item)"
   ]
  },
  {
   "cell_type": "code",
   "execution_count": 49,
   "id": "591de54e",
   "metadata": {},
   "outputs": [
    {
     "data": {
      "text/plain": [
       "<surprise.prediction_algorithms.co_clustering.CoClustering at 0x154d00b05510>"
      ]
     },
     "execution_count": 49,
     "metadata": {},
     "output_type": "execute_result"
    }
   ],
   "source": [
    "CoCluster = CoClustering()\n",
    "\n",
    "CoCluster.fit(trainset)"
   ]
  },
  {
   "cell_type": "code",
   "execution_count": 50,
   "id": "5e713cdc",
   "metadata": {},
   "outputs": [],
   "source": [
    "filename = 'cocluster_model.pkl'\n",
    "pickle.dump(CoCluster, open(filename, 'wb'))"
   ]
  },
  {
   "cell_type": "code",
   "execution_count": 51,
   "id": "2e4649fa",
   "metadata": {},
   "outputs": [
    {
     "data": {
      "text/plain": [
       "Prediction(uid='552966', iid=3364, r_ui=None, est=3.4492601107833187, details={'was_impossible': False})"
      ]
     },
     "execution_count": 51,
     "metadata": {},
     "output_type": "execute_result"
    }
   ],
   "source": [
    "random_user = random.choice(list(df.userID))\n",
    "random_item = random.choice(list(df.itemID))\n",
    "\n",
    "CoCluster.predict(random_user, random_item)"
   ]
  },
  {
   "cell_type": "code",
   "execution_count": null,
   "id": "02644e95",
   "metadata": {},
   "outputs": [],
   "source": []
  },
  {
   "cell_type": "code",
   "execution_count": null,
   "id": "ac98a077",
   "metadata": {},
   "outputs": [],
   "source": []
  },
  {
   "cell_type": "code",
   "execution_count": null,
   "id": "73275575",
   "metadata": {},
   "outputs": [],
   "source": []
  },
  {
   "cell_type": "code",
   "execution_count": null,
   "id": "262095cf",
   "metadata": {},
   "outputs": [],
   "source": []
  }
 ],
 "metadata": {
  "kernelspec": {
   "display_name": "Python 3 (ipykernel)",
   "language": "python",
   "name": "python3"
  },
  "language_info": {
   "codemirror_mode": {
    "name": "ipython",
    "version": 3
   },
   "file_extension": ".py",
   "mimetype": "text/x-python",
   "name": "python",
   "nbconvert_exporter": "python",
   "pygments_lexer": "ipython3",
   "version": "3.11.6"
  }
 },
 "nbformat": 4,
 "nbformat_minor": 5
}
