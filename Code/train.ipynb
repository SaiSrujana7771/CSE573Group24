{
 "cells": [
  {
   "cell_type": "code",
   "execution_count": 1,
   "id": "f87fbb5e",
   "metadata": {},
   "outputs": [
    {
     "name": "stdout",
     "output_type": "stream",
     "text": [
      "Defaulting to user installation because normal site-packages is not writeable\n",
      "Collecting surprise\n",
      "  Downloading surprise-0.1-py2.py3-none-any.whl (1.8 kB)\n",
      "Collecting scikit-surprise (from surprise)\n",
      "  Downloading scikit-surprise-1.1.3.tar.gz (771 kB)\n",
      "\u001b[2K     \u001b[90m━━━━━━━━━━━━━━━━━━━━━━━━━━━━━━━━━━━━━━\u001b[0m \u001b[32m772.0/772.0 kB\u001b[0m \u001b[31m10.4 MB/s\u001b[0m eta \u001b[36m0:00:00\u001b[0m00:01\u001b[0m00:01\u001b[0m\n",
      "\u001b[?25h  Preparing metadata (setup.py) ... \u001b[?25ldone\n",
      "\u001b[?25hRequirement already satisfied: joblib>=1.0.0 in /packages/apps/jupyter/2023-10-09/lib/python3.11/site-packages (from scikit-surprise->surprise) (1.3.2)\n",
      "Requirement already satisfied: numpy>=1.17.3 in /packages/apps/jupyter/2023-10-09/lib/python3.11/site-packages (from scikit-surprise->surprise) (1.26.0)\n",
      "Requirement already satisfied: scipy>=1.3.2 in /packages/apps/jupyter/2023-10-09/lib/python3.11/site-packages (from scikit-surprise->surprise) (1.11.3)\n",
      "Building wheels for collected packages: scikit-surprise\n",
      "  Building wheel for scikit-surprise (setup.py) ... \u001b[?25ldone\n",
      "\u001b[?25h  Created wheel for scikit-surprise: filename=scikit_surprise-1.1.3-cp311-cp311-linux_x86_64.whl size=1199980 sha256=d0fba5c2393e89955af179dd3020d3e7d53658ba1d14d7dc9b884ba5af4dc095\n",
      "  Stored in directory: /home/hshah78/.cache/pip/wheels/f4/2b/26/e2a5eae55d3b7688995e66abe7f40473aac6c95ddd8ee174a8\n",
      "Successfully built scikit-surprise\n",
      "Installing collected packages: scikit-surprise, surprise\n",
      "Successfully installed scikit-surprise-1.1.3 surprise-0.1\n"
     ]
    }
   ],
   "source": [
    "!pip install surprise"
   ]
  },
  {
   "cell_type": "code",
   "execution_count": 2,
   "id": "d885253b",
   "metadata": {},
   "outputs": [],
   "source": [
    "import warnings\n",
    "warnings.filterwarnings('ignore')\n",
    "import numpy as np\n",
    "import pandas as pd\n",
    "from collections import defaultdict\n",
    "import matplotlib.pyplot as plt\n",
    "import seaborn as sns\n",
    "from surprise import accuracy\n",
    "from surprise.reader import Reader\n",
    "from surprise.dataset import Dataset\n",
    "from surprise.model_selection import GridSearchCV\n",
    "from surprise.model_selection import train_test_split\n",
    "from surprise.prediction_algorithms.knns import KNNBasic\n",
    "from surprise.prediction_algorithms.matrix_factorization import SVD\n",
    "from surprise.model_selection import KFold\n",
    "from surprise import CoClustering\n",
    "from collections import deque\n",
    "import random\n",
    "import pickle"
   ]
  },
  {
   "cell_type": "code",
   "execution_count": 3,
   "id": "ea489112-f693-4210-ba10-433eb051a4d2",
   "metadata": {},
   "outputs": [
    {
     "name": "stdout",
     "output_type": "stream",
     "text": [
      "There are 3 GPU(s) available.\n",
      "We will use the GPU: NVIDIA A30\n"
     ]
    }
   ],
   "source": [
    "import torch\n",
    "\n",
    "if torch.cuda.is_available():\n",
    "\n",
    "    device = torch.device(\"cuda\")\n",
    "\n",
    "    print('There are %d GPU(s) available.' % torch.cuda.device_count())\n",
    "\n",
    "    print('We will use the GPU:', torch.cuda.get_device_name(0))\n",
    "\n",
    "\n",
    "else:\n",
    "    print('No GPU available, using the CPU instead.')\n",
    "    device = torch.device(\"cpu\")"
   ]
  },
  {
   "cell_type": "code",
   "execution_count": 4,
   "id": "edb4af35",
   "metadata": {},
   "outputs": [],
   "source": [
    "movie_titles = pd.read_csv('movie_titles.csv', encoding = 'ISO-8859-1', header = None, names = ['Id', 'Year', 'Name']).set_index('Id')"
   ]
  },
  {
   "cell_type": "code",
   "execution_count": 59,
   "id": "13dc1675-4529-4f37-85ac-9e7c2c19fb28",
   "metadata": {},
   "outputs": [
    {
     "data": {
      "text/html": [
       "<div>\n",
       "<style scoped>\n",
       "    .dataframe tbody tr th:only-of-type {\n",
       "        vertical-align: middle;\n",
       "    }\n",
       "\n",
       "    .dataframe tbody tr th {\n",
       "        vertical-align: top;\n",
       "    }\n",
       "\n",
       "    .dataframe thead th {\n",
       "        text-align: right;\n",
       "    }\n",
       "</style>\n",
       "<table border=\"1\" class=\"dataframe\">\n",
       "  <thead>\n",
       "    <tr style=\"text-align: right;\">\n",
       "      <th></th>\n",
       "      <th>Year</th>\n",
       "      <th>Name</th>\n",
       "    </tr>\n",
       "    <tr>\n",
       "      <th>Id</th>\n",
       "      <th></th>\n",
       "      <th></th>\n",
       "    </tr>\n",
       "  </thead>\n",
       "  <tbody>\n",
       "    <tr>\n",
       "      <th>1</th>\n",
       "      <td>2003.0</td>\n",
       "      <td>Dinosaur Planet</td>\n",
       "    </tr>\n",
       "    <tr>\n",
       "      <th>2</th>\n",
       "      <td>2004.0</td>\n",
       "      <td>Isle of Man TT 2004 Review</td>\n",
       "    </tr>\n",
       "    <tr>\n",
       "      <th>3</th>\n",
       "      <td>1997.0</td>\n",
       "      <td>Character</td>\n",
       "    </tr>\n",
       "    <tr>\n",
       "      <th>4</th>\n",
       "      <td>1994.0</td>\n",
       "      <td>Paula Abdul's Get Up &amp; Dance</td>\n",
       "    </tr>\n",
       "    <tr>\n",
       "      <th>5</th>\n",
       "      <td>2004.0</td>\n",
       "      <td>The Rise and Fall of ECW</td>\n",
       "    </tr>\n",
       "    <tr>\n",
       "      <th>...</th>\n",
       "      <td>...</td>\n",
       "      <td>...</td>\n",
       "    </tr>\n",
       "    <tr>\n",
       "      <th>17766</th>\n",
       "      <td>2002.0</td>\n",
       "      <td>Where the Wild Things Are and Other Maurice Se...</td>\n",
       "    </tr>\n",
       "    <tr>\n",
       "      <th>17767</th>\n",
       "      <td>2004.0</td>\n",
       "      <td>Fidel Castro: American Experience</td>\n",
       "    </tr>\n",
       "    <tr>\n",
       "      <th>17768</th>\n",
       "      <td>2000.0</td>\n",
       "      <td>Epoch</td>\n",
       "    </tr>\n",
       "    <tr>\n",
       "      <th>17769</th>\n",
       "      <td>2003.0</td>\n",
       "      <td>The Company</td>\n",
       "    </tr>\n",
       "    <tr>\n",
       "      <th>17770</th>\n",
       "      <td>2003.0</td>\n",
       "      <td>Alien Hunter</td>\n",
       "    </tr>\n",
       "  </tbody>\n",
       "</table>\n",
       "<p>17770 rows × 2 columns</p>\n",
       "</div>"
      ],
      "text/plain": [
       "         Year                                               Name\n",
       "Id                                                              \n",
       "1      2003.0                                 Dinosaur Planet   \n",
       "2      2004.0                         Isle of Man TT 2004 Review\n",
       "3      1997.0                                       Character   \n",
       "4      1994.0                    Paula Abdul's Get Up & Dance   \n",
       "5      2004.0                        The Rise and Fall of ECW   \n",
       "...       ...                                                ...\n",
       "17766  2002.0  Where the Wild Things Are and Other Maurice Se...\n",
       "17767  2004.0               Fidel Castro: American Experience   \n",
       "17768  2000.0                                           Epoch   \n",
       "17769  2003.0                                     The Company   \n",
       "17770  2003.0                                    Alien Hunter   \n",
       "\n",
       "[17770 rows x 2 columns]"
      ]
     },
     "execution_count": 59,
     "metadata": {},
     "output_type": "execute_result"
    }
   ],
   "source": [
    "movie_titles"
   ]
  },
  {
   "cell_type": "code",
   "execution_count": 103,
   "id": "0b8e5952",
   "metadata": {},
   "outputs": [
    {
     "name": "stdout",
     "output_type": "stream",
     "text": [
      "Shape Cust_Id-Ratings:\t(100479960, 3)\n"
     ]
    },
    {
     "data": {
      "text/html": [
       "<div>\n",
       "<style scoped>\n",
       "    .dataframe tbody tr th:only-of-type {\n",
       "        vertical-align: middle;\n",
       "    }\n",
       "\n",
       "    .dataframe tbody tr th {\n",
       "        vertical-align: top;\n",
       "    }\n",
       "\n",
       "    .dataframe thead th {\n",
       "        text-align: right;\n",
       "    }\n",
       "</style>\n",
       "<table border=\"1\" class=\"dataframe\">\n",
       "  <thead>\n",
       "    <tr style=\"text-align: right;\">\n",
       "      <th></th>\n",
       "      <th>Cust_Id</th>\n",
       "      <th>Rating</th>\n",
       "      <th>Movie</th>\n",
       "    </tr>\n",
       "  </thead>\n",
       "  <tbody>\n",
       "    <tr>\n",
       "      <th>8006904</th>\n",
       "      <td>332079</td>\n",
       "      <td>5.0</td>\n",
       "      <td>1604</td>\n",
       "    </tr>\n",
       "    <tr>\n",
       "      <th>55451882</th>\n",
       "      <td>985637</td>\n",
       "      <td>3.0</td>\n",
       "      <td>10143</td>\n",
       "    </tr>\n",
       "    <tr>\n",
       "      <th>7063076</th>\n",
       "      <td>206698</td>\n",
       "      <td>5.0</td>\n",
       "      <td>1409</td>\n",
       "    </tr>\n",
       "    <tr>\n",
       "      <th>89794048</th>\n",
       "      <td>2497967</td>\n",
       "      <td>3.0</td>\n",
       "      <td>15953</td>\n",
       "    </tr>\n",
       "    <tr>\n",
       "      <th>78189961</th>\n",
       "      <td>2387672</td>\n",
       "      <td>5.0</td>\n",
       "      <td>14214</td>\n",
       "    </tr>\n",
       "  </tbody>\n",
       "</table>\n",
       "</div>"
      ],
      "text/plain": [
       "          Cust_Id  Rating  Movie\n",
       "8006904    332079     5.0   1604\n",
       "55451882   985637     3.0  10143\n",
       "7063076    206698     5.0   1409\n",
       "89794048  2497967     3.0  15953\n",
       "78189961  2387672     5.0  14214"
      ]
     },
     "execution_count": 103,
     "metadata": {},
     "output_type": "execute_result"
    }
   ],
   "source": [
    "df_1 = pd.read_csv('combined_data_1.txt', header=None, names=['Cust_Id', 'Rating'], usecols=[0, 1], low_memory=False)\n",
    "df_2 = pd.read_csv('combined_data_2.txt', header=None, names=['Cust_Id', 'Rating'], usecols=[0, 1], low_memory=False)\n",
    "df_3 = pd.read_csv('combined_data_3.txt', header=None, names=['Cust_Id', 'Rating'], usecols=[0, 1], low_memory=False)\n",
    "df_4 = pd.read_csv('combined_data_4.txt', header=None, names=['Cust_Id', 'Rating'], usecols=[0, 1], low_memory=False)\n",
    "\n",
    "frames = [df_1, df_2, df_3, df_4]\n",
    "merged_df = pd.concat(frames)\n",
    "merged_df['Rating'] = merged_df['Rating'].astype(float)\n",
    "\n",
    "\n",
    "merged_df.index = np.arange(0, len(merged_df))\n",
    "merged_df = merged_df[1:len(merged_df)]\n",
    "tmp_movies = merged_df[merged_df['Rating'].isna()]['Cust_Id'].reset_index()\n",
    "movie_indices = [[index, int(movie[:-1])] for index, movie in tmp_movies.values]\n",
    "shifted_movie_indices = deque(movie_indices)\n",
    "shifted_movie_indices.rotate(-1)\n",
    "\n",
    "user_data = []\n",
    "for [df_id_1, movie_id], [df_id_2, next_movie_id] in zip(movie_indices, shifted_movie_indices):\n",
    "    if df_id_1 < df_id_2:\n",
    "        tmp_df = merged_df.loc[df_id_1 + 1: df_id_2 - 1].copy()\n",
    "    else:\n",
    "        tmp_df = merged_df.loc[df_id_1 + 1:].copy()\n",
    "    tmp_df['Movie'] = movie_id\n",
    "    user_data.append(tmp_df)\n",
    "rating = pd.concat(user_data)\n",
    "print('Shape Cust_Id-Ratings:\\t{}'.format(rating.shape))\n",
    "rating.sample(5)"
   ]
  },
  {
   "cell_type": "code",
   "execution_count": 104,
   "id": "39b35aac",
   "metadata": {},
   "outputs": [
    {
     "data": {
      "text/plain": [
       "(100479960, 3)"
      ]
     },
     "execution_count": 104,
     "metadata": {},
     "output_type": "execute_result"
    }
   ],
   "source": [
    "ratings = rating[['Cust_Id','Movie','Rating']]\n",
    "ratings.columns = ['userId','movieId','rating']\n",
    "ratings_dict = {'itemID': list(ratings.movieId),\n",
    "                'userID': list(ratings.userId),\n",
    "                'rating': list(ratings.rating)}\n",
    "\n",
    "df = pd.DataFrame(ratings_dict)\n",
    "df.shape"
   ]
  },
  {
   "cell_type": "code",
   "execution_count": 105,
   "id": "fdbe7a4a",
   "metadata": {},
   "outputs": [],
   "source": [
    "from collections import Counter\n",
    "\n",
    "customers = df.userID\n",
    "ratings_count = Counter(customers)"
   ]
  },
  {
   "cell_type": "code",
   "execution_count": 106,
   "id": "2af9e6cf",
   "metadata": {},
   "outputs": [],
   "source": [
    "lower = 10\n",
    "upper = 400\n",
    "\n",
    "ratings_count = df['userID'].value_counts()\n",
    "valid_customers = ratings_count[(ratings_count >= lower) & (ratings_count <= upper)].index\n",
    "\n",
    "df = df[df['userID'].isin(valid_customers)]"
   ]
  },
  {
   "cell_type": "code",
   "execution_count": 107,
   "id": "a87b64f2",
   "metadata": {},
   "outputs": [],
   "source": [
    "ratings_count_edit = df['userID'].value_counts().to_dict()"
   ]
  },
  {
   "cell_type": "code",
   "execution_count": 108,
   "id": "ae4c344b",
   "metadata": {},
   "outputs": [],
   "source": [
    "ratings_count = df['itemID'].value_counts().to_dict()"
   ]
  },
  {
   "cell_type": "code",
   "execution_count": 109,
   "id": "d6810e20",
   "metadata": {},
   "outputs": [
    {
     "data": {
      "text/plain": [
       "<Axes: ylabel='Count'>"
      ]
     },
     "execution_count": 109,
     "metadata": {},
     "output_type": "execute_result"
    },
    {
     "data": {
      "image/png": "[encoded data removed]",
      "text/plain": [
       "<Figure size 640x480 with 1 Axes>"
      ]
     },
     "metadata": {},
     "output_type": "display_data"
    }
   ],
   "source": [
    "sns.histplot(ratings_count.values())"
   ]
  },
  {
   "cell_type": "code",
   "execution_count": 111,
   "id": "46d0fc17",
   "metadata": {},
   "outputs": [],
   "source": [
    "ratings_count = df['itemID'].value_counts()\n",
    "\n",
    "lower_limit = 10\n",
    "upper_limit = 10000\n",
    "valid_items = ratings_count[(ratings_count >= lower_limit) & (ratings_count <= upper_limit)].index\n",
    "\n",
    "df = df[df['itemID'].isin(valid_items)]"
   ]
  },
  {
   "cell_type": "code",
   "execution_count": 112,
   "id": "88045122",
   "metadata": {},
   "outputs": [],
   "source": [
    "ratings_count_edit = df['itemID'].value_counts().to_dict()"
   ]
  },
  {
   "cell_type": "code",
   "execution_count": 113,
   "id": "1fd9acba",
   "metadata": {},
   "outputs": [
    {
     "data": {
      "text/plain": [
       "<Axes: ylabel='Count'>"
      ]
     },
     "execution_count": 113,
     "metadata": {},
     "output_type": "execute_result"
    },
    {
     "data": {
      "image/png": "[encoded data removed]",
      "text/plain": [
       "<Figure size 640x480 with 1 Axes>"
      ]
     },
     "metadata": {},
     "output_type": "display_data"
    }
   ],
   "source": [
    "sns.histplot(ratings_count_edit.values())"
   ]
  },
  {
   "cell_type": "code",
   "execution_count": 114,
   "id": "6d728597",
   "metadata": {},
   "outputs": [
    {
     "data": {
      "text/html": [
       "<div>\n",
       "<style scoped>\n",
       "    .dataframe tbody tr th:only-of-type {\n",
       "        vertical-align: middle;\n",
       "    }\n",
       "\n",
       "    .dataframe tbody tr th {\n",
       "        vertical-align: top;\n",
       "    }\n",
       "\n",
       "    .dataframe thead th {\n",
       "        text-align: right;\n",
       "    }\n",
       "</style>\n",
       "<table border=\"1\" class=\"dataframe\">\n",
       "  <thead>\n",
       "    <tr style=\"text-align: right;\">\n",
       "      <th></th>\n",
       "      <th>average_rating</th>\n",
       "      <th>rating_frequency</th>\n",
       "    </tr>\n",
       "    <tr>\n",
       "      <th>itemID</th>\n",
       "      <th></th>\n",
       "      <th></th>\n",
       "    </tr>\n",
       "  </thead>\n",
       "  <tbody>\n",
       "    <tr>\n",
       "      <th>8964</th>\n",
       "      <td>5.00</td>\n",
       "      <td>10</td>\n",
       "    </tr>\n",
       "    <tr>\n",
       "      <th>14791</th>\n",
       "      <td>4.86</td>\n",
       "      <td>35</td>\n",
       "    </tr>\n",
       "    <tr>\n",
       "      <th>5684</th>\n",
       "      <td>4.78</td>\n",
       "      <td>27</td>\n",
       "    </tr>\n",
       "    <tr>\n",
       "      <th>12398</th>\n",
       "      <td>4.74</td>\n",
       "      <td>491</td>\n",
       "    </tr>\n",
       "    <tr>\n",
       "      <th>3033</th>\n",
       "      <td>4.74</td>\n",
       "      <td>99</td>\n",
       "    </tr>\n",
       "  </tbody>\n",
       "</table>\n",
       "</div>"
      ],
      "text/plain": [
       "        average_rating  rating_frequency\n",
       "itemID                                  \n",
       "8964              5.00                10\n",
       "14791             4.86                35\n",
       "5684              4.78                27\n",
       "12398             4.74               491\n",
       "3033              4.74                99"
      ]
     },
     "execution_count": 114,
     "metadata": {},
     "output_type": "execute_result"
    }
   ],
   "source": [
    "average_rating = df.groupby('itemID').mean(numeric_only = True)['rating'].round(2)\n",
    "rating_frequency = df.groupby('itemID').count()['rating']\n",
    "popularity_model = pd.DataFrame({'average_rating':average_rating,'rating_frequency':rating_frequency})\n",
    "popularity_model = popularity_model.sort_values(by = ['average_rating', 'rating_frequency'], ascending = [False, False])\n",
    "popularity_model.head()"
   ]
  },
  {
   "cell_type": "code",
   "execution_count": 130,
   "id": "16019154",
   "metadata": {},
   "outputs": [
    {
     "data": {
      "text/plain": [
       "[(3456, 'Lost: Season 1', 'Lost: Season 1'),\n",
       " (15538, 'Fullmetal Alchemist   ', 'Fullmetal Alchemist   '),\n",
       " (9864, 'Battlestar Galactica: Season 1', 'Battlestar Galactica: Season 1'),\n",
       " (7833, 'Arrested Development: Season 2', 'Arrested Development: Season 2'),\n",
       " (13504, 'House M.D.: Season 1', 'House M.D.: Season 1'),\n",
       " (4238, 'Inu-Yasha   ', 'Inu-Yasha   '),\n",
       " (10644, 'The West Wing: Season 4', 'The West Wing: Season 4'),\n",
       " (12834, 'Family Guy: Vol. 2: Season 3', 'Family Guy: Vol. 2: Season 3'),\n",
       " (4427, 'The West Wing: Season 3', 'The West Wing: Season 3'),\n",
       " (2102, 'The Simpsons: Season 6', 'The Simpsons: Season 6')]"
      ]
     },
     "execution_count": 130,
     "metadata": {},
     "output_type": "execute_result"
    }
   ],
   "source": [
    "def get_top_movies(final_rating, number_of_movies, min_avg_rating, min_play_freq):\n",
    "    filtered_ratings = final_rating[\n",
    "        (final_rating['average_rating'] > min_avg_rating) & \n",
    "        (final_rating['rating_frequency'] > min_play_freq)\n",
    "    ]\n",
    "    sorted_ratings = filtered_ratings.sort_values(by=['average_rating', 'rating_frequency'], ascending=[False, False])\n",
    "    top_movie_ids = sorted_ratings.index[:number_of_movies]\n",
    "    movie_id_to_title = movie_titles['Name'].to_dict()\n",
    "    top_movies = [(movie_id, movie_id_to_title[movie_id]) for movie_id in top_movie_ids]\n",
    "    return top_movies\n",
    "\n",
    "recommendations = get_top_movies(popularity_model, 10, 4, 600)\n",
    "get_movie_names(recommendations)"
   ]
  },
  {
   "cell_type": "code",
   "execution_count": 131,
   "id": "d71b4f37",
   "metadata": {},
   "outputs": [],
   "source": [
    "reader = Reader(rating_scale = (0,5))\n",
    "data = Dataset.load_from_df(df[[\"userID\", \"itemID\", \"rating\"]], reader)"
   ]
  },
  {
   "cell_type": "code",
   "execution_count": 132,
   "id": "629373ce-9f54-46b7-a416-2039cf3fc0e4",
   "metadata": {},
   "outputs": [],
   "source": [
    "trainset = data.build_full_trainset()"
   ]
  },
  {
   "cell_type": "code",
   "execution_count": 133,
   "id": "fc3b74ea",
   "metadata": {},
   "outputs": [
    {
     "name": "stdout",
     "output_type": "stream",
     "text": [
      "Computing the cosine similarity matrix...\n",
      "Done computing similarity matrix.\n"
     ]
    },
    {
     "data": {
      "text/plain": [
       "<surprise.prediction_algorithms.knns.KNNBasic at 0x154fb722ec10>"
      ]
     },
     "execution_count": 133,
     "metadata": {},
     "output_type": "execute_result"
    }
   ],
   "source": [
    "sim_options = {'name': 'cosine', 'user_based':False}\n",
    "\n",
    "sim_user_user = KNNBasic(sim_options=sim_options, random_state=1)\n",
    "sim_user_user.fit(trainset)"
   ]
  },
  {
   "cell_type": "code",
   "execution_count": 39,
   "id": "353d04eb",
   "metadata": {},
   "outputs": [],
   "source": [
    "filename = 'user_user_model.pkl'\n",
    "pickle.dump(sim_user_user, open(filename, 'wb'))"
   ]
  },
  {
   "cell_type": "code",
   "execution_count": 140,
   "id": "d82fe59a",
   "metadata": {},
   "outputs": [],
   "source": [
    "def get_recommendations(data, user_id, top_n, algo):\n",
    "    recommendations = []\n",
    "    user_item_interactions_matrix = data.pivot_table(index='userID', columns='itemID', values='rating')\n",
    "    non_interacted_products = user_item_interactions_matrix.loc[user_id][user_item_interactions_matrix.loc[user_id].isnull()].index.tolist()\n",
    "    for item_id in non_interacted_products:\n",
    "        est = algo.predict(user_id, item_id).est\n",
    "        recommendations.append((item_id, est))\n",
    "    recommendations.sort(key=lambda x: x[1], reverse=True)\n",
    "    return recommendations[:top_n]"
   ]
  },
  {
   "cell_type": "code",
   "execution_count": 141,
   "id": "9a837e86-d3f1-424f-9884-92b7db327dc5",
   "metadata": {},
   "outputs": [],
   "source": [
    "def get_movie_names(recommendations):\n",
    "    item_id_to_title = movie_titles['Name'].to_dict()\n",
    "    recommended_movies = [(item_id, item_id_to_title[item_id], rating) for item_id, rating in recommendations]\n",
    "    return recommended_movies"
   ]
  },
  {
   "cell_type": "code",
   "execution_count": 142,
   "id": "66e1ec99",
   "metadata": {},
   "outputs": [
    {
     "name": "stdout",
     "output_type": "stream",
     "text": [
      "[(616, 4.909037647524437), (3435, 4.82212460423533), (15521, 4.777777777777778), (14232, 4.716017633529244), (12955, 4.694387478924723), (2948, 4.670267332830878), (13637, 4.6645251861308115), (1953, 4.663269588602865), (15142, 4.658141615106851), (11033, 4.654508497187474)]\n"
     ]
    }
   ],
   "source": [
    "random_user = random.choice(list(df.userID))\n",
    "random_item = random.choice(list(df.itemID))\n",
    "\n",
    "recommendations = get_recommendations(df, str(random_user), 10, sim_user_user)\n",
    "print(recommendations)"
   ]
  },
  {
   "cell_type": "code",
   "execution_count": 143,
   "id": "3ad30544",
   "metadata": {},
   "outputs": [],
   "source": [
    "def rank_items_based_on_recommendations(recommendations, final_ratings):\n",
    "    recommended_items = [item[0] for item in recommendations]\n",
    "    ranked_items = final_ratings.loc[recommended_items].sort_values('rating_frequency', ascending=False)[['rating_frequency']].reset_index()\n",
    "    \n",
    "    recommendations_df = pd.DataFrame(recommendations, columns=['itemID', 'predicted_ratings'])\n",
    "    ranked_items = ranked_items.merge(recommendations_df, on='itemID', how='inner')\n",
    "    \n",
    "    ranked_items['corrected_ratings'] = ranked_items['predicted_ratings'] - 1 / np.sqrt(ranked_items['rating_frequency'])\n",
    "    ranked_items = ranked_items.sort_values('corrected_ratings', ascending=False)\n",
    "    \n",
    "    return ranked_items"
   ]
  },
  {
   "cell_type": "code",
   "execution_count": 144,
   "id": "24c86e73",
   "metadata": {},
   "outputs": [],
   "source": [
    "rankings_sim_sim_user = rank_items_based_on_recommendations(recommendations, popularity_model)"
   ]
  },
  {
   "cell_type": "code",
   "execution_count": 145,
   "id": "ea4a1124-546c-4115-9e92-e8065b502811",
   "metadata": {},
   "outputs": [
    {
     "data": {
      "text/html": [
       "<div>\n",
       "<style scoped>\n",
       "    .dataframe tbody tr th:only-of-type {\n",
       "        vertical-align: middle;\n",
       "    }\n",
       "\n",
       "    .dataframe tbody tr th {\n",
       "        vertical-align: top;\n",
       "    }\n",
       "\n",
       "    .dataframe thead th {\n",
       "        text-align: right;\n",
       "    }\n",
       "</style>\n",
       "<table border=\"1\" class=\"dataframe\">\n",
       "  <thead>\n",
       "    <tr style=\"text-align: right;\">\n",
       "      <th></th>\n",
       "      <th>itemID</th>\n",
       "      <th>rating_frequency</th>\n",
       "      <th>predicted_ratings</th>\n",
       "      <th>corrected_ratings</th>\n",
       "    </tr>\n",
       "  </thead>\n",
       "  <tbody>\n",
       "    <tr>\n",
       "      <th>8</th>\n",
       "      <td>616</td>\n",
       "      <td>16</td>\n",
       "      <td>4.909038</td>\n",
       "      <td>4.659038</td>\n",
       "    </tr>\n",
       "    <tr>\n",
       "      <th>4</th>\n",
       "      <td>3435</td>\n",
       "      <td>24</td>\n",
       "      <td>4.822125</td>\n",
       "      <td>4.618000</td>\n",
       "    </tr>\n",
       "    <tr>\n",
       "      <th>1</th>\n",
       "      <td>15521</td>\n",
       "      <td>33</td>\n",
       "      <td>4.777778</td>\n",
       "      <td>4.603700</td>\n",
       "    </tr>\n",
       "    <tr>\n",
       "      <th>0</th>\n",
       "      <td>15142</td>\n",
       "      <td>41</td>\n",
       "      <td>4.658142</td>\n",
       "      <td>4.501968</td>\n",
       "    </tr>\n",
       "    <tr>\n",
       "      <th>7</th>\n",
       "      <td>14232</td>\n",
       "      <td>21</td>\n",
       "      <td>4.716018</td>\n",
       "      <td>4.497800</td>\n",
       "    </tr>\n",
       "    <tr>\n",
       "      <th>3</th>\n",
       "      <td>12955</td>\n",
       "      <td>25</td>\n",
       "      <td>4.694387</td>\n",
       "      <td>4.494387</td>\n",
       "    </tr>\n",
       "    <tr>\n",
       "      <th>2</th>\n",
       "      <td>13637</td>\n",
       "      <td>26</td>\n",
       "      <td>4.664525</td>\n",
       "      <td>4.468409</td>\n",
       "    </tr>\n",
       "    <tr>\n",
       "      <th>5</th>\n",
       "      <td>2948</td>\n",
       "      <td>22</td>\n",
       "      <td>4.670267</td>\n",
       "      <td>4.457067</td>\n",
       "    </tr>\n",
       "    <tr>\n",
       "      <th>6</th>\n",
       "      <td>1953</td>\n",
       "      <td>22</td>\n",
       "      <td>4.663270</td>\n",
       "      <td>4.450069</td>\n",
       "    </tr>\n",
       "    <tr>\n",
       "      <th>9</th>\n",
       "      <td>11033</td>\n",
       "      <td>10</td>\n",
       "      <td>4.654508</td>\n",
       "      <td>4.338281</td>\n",
       "    </tr>\n",
       "  </tbody>\n",
       "</table>\n",
       "</div>"
      ],
      "text/plain": [
       "   itemID  rating_frequency  predicted_ratings  corrected_ratings\n",
       "8     616                16           4.909038           4.659038\n",
       "4    3435                24           4.822125           4.618000\n",
       "1   15521                33           4.777778           4.603700\n",
       "0   15142                41           4.658142           4.501968\n",
       "7   14232                21           4.716018           4.497800\n",
       "3   12955                25           4.694387           4.494387\n",
       "2   13637                26           4.664525           4.468409\n",
       "5    2948                22           4.670267           4.457067\n",
       "6    1953                22           4.663270           4.450069\n",
       "9   11033                10           4.654508           4.338281"
      ]
     },
     "execution_count": 145,
     "metadata": {},
     "output_type": "execute_result"
    }
   ],
   "source": [
    "rankings_sim_sim_user"
   ]
  },
  {
   "cell_type": "code",
   "execution_count": 146,
   "id": "5847fa74-cfb1-46cf-ab19-eda410ebc721",
   "metadata": {},
   "outputs": [
    {
     "data": {
      "text/plain": [
       "[(616, 'SCTV Network 90: Vol. 4', 4.909037647524437),\n",
       " (3435, 'The House of Seven Corpses   ', 4.82212460423533),\n",
       " (15521, 'Without Conscience   ', 4.777777777777778),\n",
       " (14232, 'Act of War   ', 4.716017633529244),\n",
       " (12955, 'The Perfect Wife   ', 4.694387478924723),\n",
       " (2948, 'Razor Blade Smile   ', 4.670267332830878),\n",
       " (13637, 'Angel of the Night   ', 4.6645251861308115),\n",
       " (1953, 'B.U.S.T.E.D.   ', 4.663269588602865),\n",
       " (15142, 'Times Square   ', 4.658141615106851),\n",
       " (11033, 'Bloodfist 4: Die Trying', 4.654508497187474)]"
      ]
     },
     "execution_count": 146,
     "metadata": {},
     "output_type": "execute_result"
    }
   ],
   "source": [
    "get_movie_names(recommendations)"
   ]
  },
  {
   "cell_type": "code",
   "execution_count": 154,
   "id": "7bf672c2",
   "metadata": {},
   "outputs": [
    {
     "data": {
      "text/plain": [
       "<surprise.prediction_algorithms.matrix_factorization.SVD at 0x1552f5587cd0>"
      ]
     },
     "execution_count": 154,
     "metadata": {},
     "output_type": "execute_result"
    }
   ],
   "source": [
    "svd = SVD()\n",
    "svd.fit(trainset)"
   ]
  },
  {
   "cell_type": "code",
   "execution_count": 155,
   "id": "738228f2",
   "metadata": {},
   "outputs": [],
   "source": [
    "filename = 'svd_model.pkl'\n",
    "pickle.dump(svd, open(filename, 'wb'))"
   ]
  },
  {
   "cell_type": "code",
   "execution_count": 156,
   "id": "43b9ee18",
   "metadata": {},
   "outputs": [
    {
     "data": {
      "text/plain": [
       "Prediction(uid='2075580', iid=330, r_ui=None, est=3.4328682601839304, details={'was_impossible': False})"
      ]
     },
     "execution_count": 156,
     "metadata": {},
     "output_type": "execute_result"
    }
   ],
   "source": [
    "svd.predict(random_user, random_item)"
   ]
  },
  {
   "cell_type": "code",
   "execution_count": 157,
   "id": "c8971124-197a-46c3-a3e3-717a6a26d06a",
   "metadata": {},
   "outputs": [
    {
     "name": "stdout",
     "output_type": "stream",
     "text": [
      "[(8197, 5), (10809, 5), (11191, 5), (12371, 5), (15437, 5), (7914, 4.957626024640009), (10418, 4.944059423410189), (14808, 4.941031323022211), (10883, 4.922892351254339), (5714, 4.913208774913886)]\n"
     ]
    }
   ],
   "source": [
    "recommendations = get_recommendations(df, str(random_user), 10, svd)\n",
    "print(recommendations)"
   ]
  },
  {
   "cell_type": "code",
   "execution_count": 158,
   "id": "6a199fb7-270a-46d1-b68e-e68e37090b52",
   "metadata": {},
   "outputs": [
    {
     "data": {
      "text/html": [
       "<div>\n",
       "<style scoped>\n",
       "    .dataframe tbody tr th:only-of-type {\n",
       "        vertical-align: middle;\n",
       "    }\n",
       "\n",
       "    .dataframe tbody tr th {\n",
       "        vertical-align: top;\n",
       "    }\n",
       "\n",
       "    .dataframe thead th {\n",
       "        text-align: right;\n",
       "    }\n",
       "</style>\n",
       "<table border=\"1\" class=\"dataframe\">\n",
       "  <thead>\n",
       "    <tr style=\"text-align: right;\">\n",
       "      <th></th>\n",
       "      <th>itemID</th>\n",
       "      <th>rating_frequency</th>\n",
       "      <th>predicted_ratings</th>\n",
       "      <th>corrected_ratings</th>\n",
       "    </tr>\n",
       "  </thead>\n",
       "  <tbody>\n",
       "    <tr>\n",
       "      <th>0</th>\n",
       "      <td>8197</td>\n",
       "      <td>6720</td>\n",
       "      <td>5.000000</td>\n",
       "      <td>4.987801</td>\n",
       "    </tr>\n",
       "    <tr>\n",
       "      <th>2</th>\n",
       "      <td>10809</td>\n",
       "      <td>5858</td>\n",
       "      <td>5.000000</td>\n",
       "      <td>4.986935</td>\n",
       "    </tr>\n",
       "    <tr>\n",
       "      <th>3</th>\n",
       "      <td>11191</td>\n",
       "      <td>4840</td>\n",
       "      <td>5.000000</td>\n",
       "      <td>4.985626</td>\n",
       "    </tr>\n",
       "    <tr>\n",
       "      <th>5</th>\n",
       "      <td>15437</td>\n",
       "      <td>1195</td>\n",
       "      <td>5.000000</td>\n",
       "      <td>4.971072</td>\n",
       "    </tr>\n",
       "    <tr>\n",
       "      <th>9</th>\n",
       "      <td>12371</td>\n",
       "      <td>557</td>\n",
       "      <td>5.000000</td>\n",
       "      <td>4.957629</td>\n",
       "    </tr>\n",
       "    <tr>\n",
       "      <th>4</th>\n",
       "      <td>7914</td>\n",
       "      <td>1495</td>\n",
       "      <td>4.957626</td>\n",
       "      <td>4.931763</td>\n",
       "    </tr>\n",
       "    <tr>\n",
       "      <th>1</th>\n",
       "      <td>10418</td>\n",
       "      <td>5942</td>\n",
       "      <td>4.944059</td>\n",
       "      <td>4.931087</td>\n",
       "    </tr>\n",
       "    <tr>\n",
       "      <th>8</th>\n",
       "      <td>14808</td>\n",
       "      <td>597</td>\n",
       "      <td>4.941031</td>\n",
       "      <td>4.900104</td>\n",
       "    </tr>\n",
       "    <tr>\n",
       "      <th>6</th>\n",
       "      <td>10883</td>\n",
       "      <td>935</td>\n",
       "      <td>4.922892</td>\n",
       "      <td>4.890189</td>\n",
       "    </tr>\n",
       "    <tr>\n",
       "      <th>7</th>\n",
       "      <td>5714</td>\n",
       "      <td>757</td>\n",
       "      <td>4.913209</td>\n",
       "      <td>4.876863</td>\n",
       "    </tr>\n",
       "  </tbody>\n",
       "</table>\n",
       "</div>"
      ],
      "text/plain": [
       "   itemID  rating_frequency  predicted_ratings  corrected_ratings\n",
       "0    8197              6720           5.000000           4.987801\n",
       "2   10809              5858           5.000000           4.986935\n",
       "3   11191              4840           5.000000           4.985626\n",
       "5   15437              1195           5.000000           4.971072\n",
       "9   12371               557           5.000000           4.957629\n",
       "4    7914              1495           4.957626           4.931763\n",
       "1   10418              5942           4.944059           4.931087\n",
       "8   14808               597           4.941031           4.900104\n",
       "6   10883               935           4.922892           4.890189\n",
       "7    5714               757           4.913209           4.876863"
      ]
     },
     "execution_count": 158,
     "metadata": {},
     "output_type": "execute_result"
    }
   ],
   "source": [
    "rankings_svd = rank_items_based_on_recommendations(recommendations, popularity_model)\n",
    "rankings_svd"
   ]
  },
  {
   "cell_type": "code",
   "execution_count": 159,
   "id": "0646b7d4-c57b-4f53-bc5d-9459276ba95f",
   "metadata": {},
   "outputs": [
    {
     "data": {
      "text/plain": [
       "[(8197, 'Deadwood: Season 1', 5),\n",
       " (10809, 'Four Rooms   ', 5),\n",
       " (11191, 'South Park: Season 3', 5),\n",
       " (12371, 'South Park: Timmy!   ', 5),\n",
       " (15437, 'South Park: Season 6', 5),\n",
       " (7914, 'MI-5: Vol. 1', 4.957626024640009),\n",
       " (10418, 'South Park: Season 1', 4.944059423410189),\n",
       " (14808, 'Viva La Bam: Seasons 2 and 3', 4.941031323022211),\n",
       " (10883, 'The Titanic   ', 4.922892351254339),\n",
       " (5714, 'Upstairs Downstairs: Season 4', 4.913208774913886)]"
      ]
     },
     "execution_count": 159,
     "metadata": {},
     "output_type": "execute_result"
    }
   ],
   "source": [
    "get_movie_names(recommendations)"
   ]
  },
  {
   "cell_type": "code",
   "execution_count": 160,
   "id": "591de54e",
   "metadata": {},
   "outputs": [
    {
     "data": {
      "text/plain": [
       "<surprise.prediction_algorithms.co_clustering.CoClustering at 0x154fb7265910>"
      ]
     },
     "execution_count": 160,
     "metadata": {},
     "output_type": "execute_result"
    }
   ],
   "source": [
    "CoCluster = CoClustering()\n",
    "CoCluster.fit(trainset)"
   ]
  },
  {
   "cell_type": "code",
   "execution_count": 161,
   "id": "5e713cdc",
   "metadata": {},
   "outputs": [],
   "source": [
    "filename = 'cocluster_model.pkl'\n",
    "pickle.dump(CoCluster, open(filename, 'wb'))"
   ]
  },
  {
   "cell_type": "code",
   "execution_count": 162,
   "id": "2e4649fa",
   "metadata": {},
   "outputs": [
    {
     "data": {
      "text/plain": [
       "Prediction(uid='2075580', iid=330, r_ui=None, est=3.5973668964184253, details={'was_impossible': False})"
      ]
     },
     "execution_count": 162,
     "metadata": {},
     "output_type": "execute_result"
    }
   ],
   "source": [
    "CoCluster.predict(random_user, random_item)"
   ]
  },
  {
   "cell_type": "code",
   "execution_count": 163,
   "id": "02644e95",
   "metadata": {},
   "outputs": [
    {
     "name": "stdout",
     "output_type": "stream",
     "text": [
      "[(6406, 5), (8964, 5), (14791, 5), (7664, 4.98689341477889), (3033, 4.97803187436735), (14518, 4.940658136993612), (2117, 4.933991470326944), (9039, 4.933956738960895), (3456, 4.925965711980902), (15538, 4.924969975299675)]\n"
     ]
    }
   ],
   "source": [
    "recommendations = get_recommendations(df, str(random_user), 10, CoCluster)\n",
    "print(recommendations)"
   ]
  },
  {
   "cell_type": "code",
   "execution_count": 164,
   "id": "73275575",
   "metadata": {},
   "outputs": [
    {
     "data": {
      "text/html": [
       "<div>\n",
       "<style scoped>\n",
       "    .dataframe tbody tr th:only-of-type {\n",
       "        vertical-align: middle;\n",
       "    }\n",
       "\n",
       "    .dataframe tbody tr th {\n",
       "        vertical-align: top;\n",
       "    }\n",
       "\n",
       "    .dataframe thead th {\n",
       "        text-align: right;\n",
       "    }\n",
       "</style>\n",
       "<table border=\"1\" class=\"dataframe\">\n",
       "  <thead>\n",
       "    <tr style=\"text-align: right;\">\n",
       "      <th></th>\n",
       "      <th>itemID</th>\n",
       "      <th>rating_frequency</th>\n",
       "      <th>predicted_ratings</th>\n",
       "      <th>corrected_ratings</th>\n",
       "    </tr>\n",
       "  </thead>\n",
       "  <tbody>\n",
       "    <tr>\n",
       "      <th>1</th>\n",
       "      <td>7664</td>\n",
       "      <td>3921</td>\n",
       "      <td>4.986893</td>\n",
       "      <td>4.970924</td>\n",
       "    </tr>\n",
       "    <tr>\n",
       "      <th>0</th>\n",
       "      <td>3456</td>\n",
       "      <td>3934</td>\n",
       "      <td>4.925966</td>\n",
       "      <td>4.910022</td>\n",
       "    </tr>\n",
       "    <tr>\n",
       "      <th>2</th>\n",
       "      <td>15538</td>\n",
       "      <td>1039</td>\n",
       "      <td>4.924970</td>\n",
       "      <td>4.893946</td>\n",
       "    </tr>\n",
       "    <tr>\n",
       "      <th>3</th>\n",
       "      <td>3033</td>\n",
       "      <td>99</td>\n",
       "      <td>4.978032</td>\n",
       "      <td>4.877528</td>\n",
       "    </tr>\n",
       "    <tr>\n",
       "      <th>6</th>\n",
       "      <td>6406</td>\n",
       "      <td>59</td>\n",
       "      <td>5.000000</td>\n",
       "      <td>4.869811</td>\n",
       "    </tr>\n",
       "    <tr>\n",
       "      <th>7</th>\n",
       "      <td>14791</td>\n",
       "      <td>35</td>\n",
       "      <td>5.000000</td>\n",
       "      <td>4.830969</td>\n",
       "    </tr>\n",
       "    <tr>\n",
       "      <th>4</th>\n",
       "      <td>9039</td>\n",
       "      <td>85</td>\n",
       "      <td>4.933957</td>\n",
       "      <td>4.825492</td>\n",
       "    </tr>\n",
       "    <tr>\n",
       "      <th>5</th>\n",
       "      <td>2117</td>\n",
       "      <td>75</td>\n",
       "      <td>4.933991</td>\n",
       "      <td>4.818521</td>\n",
       "    </tr>\n",
       "    <tr>\n",
       "      <th>8</th>\n",
       "      <td>8964</td>\n",
       "      <td>10</td>\n",
       "      <td>5.000000</td>\n",
       "      <td>4.683772</td>\n",
       "    </tr>\n",
       "    <tr>\n",
       "      <th>9</th>\n",
       "      <td>14518</td>\n",
       "      <td>10</td>\n",
       "      <td>4.940658</td>\n",
       "      <td>4.624430</td>\n",
       "    </tr>\n",
       "  </tbody>\n",
       "</table>\n",
       "</div>"
      ],
      "text/plain": [
       "   itemID  rating_frequency  predicted_ratings  corrected_ratings\n",
       "1    7664              3921           4.986893           4.970924\n",
       "0    3456              3934           4.925966           4.910022\n",
       "2   15538              1039           4.924970           4.893946\n",
       "3    3033                99           4.978032           4.877528\n",
       "6    6406                59           5.000000           4.869811\n",
       "7   14791                35           5.000000           4.830969\n",
       "4    9039                85           4.933957           4.825492\n",
       "5    2117                75           4.933991           4.818521\n",
       "8    8964                10           5.000000           4.683772\n",
       "9   14518                10           4.940658           4.624430"
      ]
     },
     "execution_count": 164,
     "metadata": {},
     "output_type": "execute_result"
    }
   ],
   "source": [
    "rankings_cc = rank_items_based_on_recommendations(recommendations, popularity_model)\n",
    "rankings_cc"
   ]
  },
  {
   "cell_type": "code",
   "execution_count": 165,
   "id": "262095cf",
   "metadata": {},
   "outputs": [
    {
     "data": {
      "text/plain": [
       "[(6406, 'Fighting Spirit   ', 5),\n",
       " (8964, 'Trailer Park Boys: Season 4', 5),\n",
       " (14791, 'Trailer Park Boys: Season 3', 5),\n",
       " (7664, 'Gladiator: Extended Edition   ', 4.98689341477889),\n",
       " (3033, 'Ghost in the Shell: Stand Alone Complex: 2nd Gig', 4.97803187436735),\n",
       " (14518, 'WWE: Unforgiven 2005', 4.940658136993612),\n",
       " (2117, 'Case Closed: Season 5', 4.933991470326944),\n",
       " (9039,\n",
       "  \"The Boston Red Sox: 2004 World Series Collector's Edition\",\n",
       "  4.933956738960895),\n",
       " (3456, 'Lost: Season 1', 4.925965711980902),\n",
       " (15538, 'Fullmetal Alchemist   ', 4.924969975299675)]"
      ]
     },
     "execution_count": 165,
     "metadata": {},
     "output_type": "execute_result"
    }
   ],
   "source": [
    "get_movie_names(recommendations)"
   ]
  }
 ],
 "metadata": {
  "kernelspec": {
   "display_name": "Python 3 (ipykernel)",
   "language": "python",
   "name": "python3"
  },
  "language_info": {
   "codemirror_mode": {
    "name": "ipython",
    "version": 3
   },
   "file_extension": ".py",
   "mimetype": "text/x-python",
   "name": "python",
   "nbconvert_exporter": "python",
   "pygments_lexer": "ipython3",
   "version": "3.11.6"
  }
 },
 "nbformat": 4,
 "nbformat_minor": 5
}
